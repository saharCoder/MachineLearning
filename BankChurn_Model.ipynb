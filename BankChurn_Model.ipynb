{
  "nbformat": 4,
  "nbformat_minor": 0,
  "metadata": {
    "colab": {
      "provenance": [],
      "authorship_tag": "ABX9TyPSkukMHg2elyPiwbcaRHJF",
      "include_colab_link": true
    },
    "kernelspec": {
      "name": "python3",
      "display_name": "Python 3"
    },
    "language_info": {
      "name": "python"
    }
  },
  "cells": [
    {
      "cell_type": "markdown",
      "metadata": {
        "id": "view-in-github",
        "colab_type": "text"
      },
      "source": [
        "<a href=\"https://colab.research.google.com/github/saharCoder/MachineLearning/blob/main/BankChurn_Model.ipynb\" target=\"_parent\"><img src=\"https://colab.research.google.com/assets/colab-badge.svg\" alt=\"Open In Colab\"/></a>"
      ]
    },
    {
      "cell_type": "code",
      "source": [
        "def skeweness(column):\n",
        "   mean=np.mean(df[column])\n",
        "   median=np.median(df[column])\n",
        "   print(\"The mean: \",mean)\n",
        "   #calculating the median\n",
        "   print(\"The median: \",median)\n",
        "   if mean>median:\n",
        "     print('The data more likely to be skewed to the RIGHT!')\n",
        "   else:\n",
        "     print('The data more likely to be skewed to the LEFT!')\n",
        "\n",
        "def histogrammer(column_str, median_text=True, **kwargs):    # **kwargs = any keyword arguments\n",
        "                                                             # from the sns.histplot() function\n",
        "    median=round(df[column_str].median(), 1)\n",
        "    fig, ax = pt.subplots(figsize=(5, 4))\n",
        "    ax = sns.histplot(x=df[column_str], **kwargs)            # Plot the histogram\n",
        "    pt.axvline(median, color='red', linestyle='--')         # Plot the median line\n",
        "    if median_text==True:                                    # Add median text unless set to False\n",
        "        ax.text(0.25, 0.85, f'median={median}', color='red',\n",
        "            ha=\"left\", va=\"top\", transform=ax.transAxes)\n",
        "    else:\n",
        "        print('Median:', median)\n",
        "    pt.title(f'{column_str} histogram');\n",
        "\n",
        "\n",
        "def boxplotter(column,xlabel,title): # Box plot\n",
        "  fig, ax = pt.subplots(figsize=(5, 4))\n",
        "  box = sns.boxplot(x=df[column])\n",
        "  g = pt.gca()\n",
        "  #box.set_xticklabels(np.array([readable_numbers(x) for x in g. 􏰀→get_xticks()]))\n",
        "  pt.xlabel(xlabel)\n",
        "  pt.title(title)\n",
        "  pt.show()"
      ],
      "metadata": {
        "id": "tFkyxYH5VdiI"
      },
      "execution_count": 1,
      "outputs": []
    },
    {
      "cell_type": "code",
      "execution_count": 2,
      "metadata": {
        "colab": {
          "base_uri": "https://localhost:8080/"
        },
        "id": "PvOGsD70RJCu",
        "outputId": "ce7bbe4b-8c9a-4883-8ed6-87bfc1c9664b"
      },
      "outputs": [
        {
          "output_type": "stream",
          "name": "stdout",
          "text": [
            "Mounted at /content/gdrive\n"
          ]
        }
      ],
      "source": [
        "from google.colab import drive\n",
        "drive.mount('/content/gdrive')\n",
        "#! mkdir ~/.kaggle\n",
        "#! cp /content/gdrive/MyDrive/kaggle.json ~/.kaggle/\n",
        "#! chmod 600 ~/.kaggle/kaggle.json\n",
        "#! kaggle datasets download bhuviranga/customer-churn-data\n"
      ]
    },
    {
      "cell_type": "code",
      "source": [
        "#! unzip customer-churn-data.zip"
      ],
      "metadata": {
        "id": "ogx2PUYDRm7p"
      },
      "execution_count": 3,
      "outputs": []
    },
    {
      "cell_type": "markdown",
      "source": [
        "### Importing and Loading the Dataset"
      ],
      "metadata": {
        "id": "-3SFBYIMRy3l"
      }
    },
    {
      "cell_type": "code",
      "source": [
        "import numpy as np\n",
        "import pandas as pd\n",
        "import matplotlib.pyplot as pt\n",
        "import seaborn as sns\n",
        "from sklearn.preprocessing import MinMaxScaler"
      ],
      "metadata": {
        "id": "bTJ_fBWqRw2V"
      },
      "execution_count": 52,
      "outputs": []
    },
    {
      "cell_type": "code",
      "source": [
        "df=pd.read_csv('/content/gdrive/MyDrive/Churn_Modelling.csv')"
      ],
      "metadata": {
        "id": "Ed0itMXuR8l3"
      },
      "execution_count": 82,
      "outputs": []
    },
    {
      "cell_type": "markdown",
      "source": [
        "### Data Exploration"
      ],
      "metadata": {
        "id": "Ab3B-on8SDhl"
      }
    },
    {
      "cell_type": "code",
      "source": [
        "df.head()"
      ],
      "metadata": {
        "colab": {
          "base_uri": "https://localhost:8080/",
          "height": 250
        },
        "id": "g_ydPE1cSBP6",
        "outputId": "2e0231c0-0580-4001-ed1c-0dcf81037ed5"
      },
      "execution_count": 83,
      "outputs": [
        {
          "output_type": "execute_result",
          "data": {
            "text/plain": [
              "   RowNumber  CustomerId   Surname  CreditScore Geography  Gender  Age  \\\n",
              "0          1    15634602  Hargrave          619    France  Female   42   \n",
              "1          2    15647311      Hill          608     Spain  Female   41   \n",
              "2          3    15619304      Onio          502    France  Female   42   \n",
              "3          4    15701354      Boni          699    France  Female   39   \n",
              "4          5    15737888  Mitchell          850     Spain  Female   43   \n",
              "\n",
              "   Tenure    Balance  NumOfProducts  HasCrCard  IsActiveMember  \\\n",
              "0       2       0.00              1          1               1   \n",
              "1       1   83807.86              1          0               1   \n",
              "2       8  159660.80              3          1               0   \n",
              "3       1       0.00              2          0               0   \n",
              "4       2  125510.82              1          1               1   \n",
              "\n",
              "   EstimatedSalary  Exited  \n",
              "0        101348.88       1  \n",
              "1        112542.58       0  \n",
              "2        113931.57       1  \n",
              "3         93826.63       0  \n",
              "4         79084.10       0  "
            ],
            "text/html": [
              "\n",
              "\n",
              "  <div id=\"df-50b6819e-a9ac-4dd5-bfba-94fb6e135234\">\n",
              "    <div class=\"colab-df-container\">\n",
              "      <div>\n",
              "<style scoped>\n",
              "    .dataframe tbody tr th:only-of-type {\n",
              "        vertical-align: middle;\n",
              "    }\n",
              "\n",
              "    .dataframe tbody tr th {\n",
              "        vertical-align: top;\n",
              "    }\n",
              "\n",
              "    .dataframe thead th {\n",
              "        text-align: right;\n",
              "    }\n",
              "</style>\n",
              "<table border=\"1\" class=\"dataframe\">\n",
              "  <thead>\n",
              "    <tr style=\"text-align: right;\">\n",
              "      <th></th>\n",
              "      <th>RowNumber</th>\n",
              "      <th>CustomerId</th>\n",
              "      <th>Surname</th>\n",
              "      <th>CreditScore</th>\n",
              "      <th>Geography</th>\n",
              "      <th>Gender</th>\n",
              "      <th>Age</th>\n",
              "      <th>Tenure</th>\n",
              "      <th>Balance</th>\n",
              "      <th>NumOfProducts</th>\n",
              "      <th>HasCrCard</th>\n",
              "      <th>IsActiveMember</th>\n",
              "      <th>EstimatedSalary</th>\n",
              "      <th>Exited</th>\n",
              "    </tr>\n",
              "  </thead>\n",
              "  <tbody>\n",
              "    <tr>\n",
              "      <th>0</th>\n",
              "      <td>1</td>\n",
              "      <td>15634602</td>\n",
              "      <td>Hargrave</td>\n",
              "      <td>619</td>\n",
              "      <td>France</td>\n",
              "      <td>Female</td>\n",
              "      <td>42</td>\n",
              "      <td>2</td>\n",
              "      <td>0.00</td>\n",
              "      <td>1</td>\n",
              "      <td>1</td>\n",
              "      <td>1</td>\n",
              "      <td>101348.88</td>\n",
              "      <td>1</td>\n",
              "    </tr>\n",
              "    <tr>\n",
              "      <th>1</th>\n",
              "      <td>2</td>\n",
              "      <td>15647311</td>\n",
              "      <td>Hill</td>\n",
              "      <td>608</td>\n",
              "      <td>Spain</td>\n",
              "      <td>Female</td>\n",
              "      <td>41</td>\n",
              "      <td>1</td>\n",
              "      <td>83807.86</td>\n",
              "      <td>1</td>\n",
              "      <td>0</td>\n",
              "      <td>1</td>\n",
              "      <td>112542.58</td>\n",
              "      <td>0</td>\n",
              "    </tr>\n",
              "    <tr>\n",
              "      <th>2</th>\n",
              "      <td>3</td>\n",
              "      <td>15619304</td>\n",
              "      <td>Onio</td>\n",
              "      <td>502</td>\n",
              "      <td>France</td>\n",
              "      <td>Female</td>\n",
              "      <td>42</td>\n",
              "      <td>8</td>\n",
              "      <td>159660.80</td>\n",
              "      <td>3</td>\n",
              "      <td>1</td>\n",
              "      <td>0</td>\n",
              "      <td>113931.57</td>\n",
              "      <td>1</td>\n",
              "    </tr>\n",
              "    <tr>\n",
              "      <th>3</th>\n",
              "      <td>4</td>\n",
              "      <td>15701354</td>\n",
              "      <td>Boni</td>\n",
              "      <td>699</td>\n",
              "      <td>France</td>\n",
              "      <td>Female</td>\n",
              "      <td>39</td>\n",
              "      <td>1</td>\n",
              "      <td>0.00</td>\n",
              "      <td>2</td>\n",
              "      <td>0</td>\n",
              "      <td>0</td>\n",
              "      <td>93826.63</td>\n",
              "      <td>0</td>\n",
              "    </tr>\n",
              "    <tr>\n",
              "      <th>4</th>\n",
              "      <td>5</td>\n",
              "      <td>15737888</td>\n",
              "      <td>Mitchell</td>\n",
              "      <td>850</td>\n",
              "      <td>Spain</td>\n",
              "      <td>Female</td>\n",
              "      <td>43</td>\n",
              "      <td>2</td>\n",
              "      <td>125510.82</td>\n",
              "      <td>1</td>\n",
              "      <td>1</td>\n",
              "      <td>1</td>\n",
              "      <td>79084.10</td>\n",
              "      <td>0</td>\n",
              "    </tr>\n",
              "  </tbody>\n",
              "</table>\n",
              "</div>\n",
              "      <button class=\"colab-df-convert\" onclick=\"convertToInteractive('df-50b6819e-a9ac-4dd5-bfba-94fb6e135234')\"\n",
              "              title=\"Convert this dataframe to an interactive table.\"\n",
              "              style=\"display:none;\">\n",
              "\n",
              "  <svg xmlns=\"http://www.w3.org/2000/svg\" height=\"24px\"viewBox=\"0 0 24 24\"\n",
              "       width=\"24px\">\n",
              "    <path d=\"M0 0h24v24H0V0z\" fill=\"none\"/>\n",
              "    <path d=\"M18.56 5.44l.94 2.06.94-2.06 2.06-.94-2.06-.94-.94-2.06-.94 2.06-2.06.94zm-11 1L8.5 8.5l.94-2.06 2.06-.94-2.06-.94L8.5 2.5l-.94 2.06-2.06.94zm10 10l.94 2.06.94-2.06 2.06-.94-2.06-.94-.94-2.06-.94 2.06-2.06.94z\"/><path d=\"M17.41 7.96l-1.37-1.37c-.4-.4-.92-.59-1.43-.59-.52 0-1.04.2-1.43.59L10.3 9.45l-7.72 7.72c-.78.78-.78 2.05 0 2.83L4 21.41c.39.39.9.59 1.41.59.51 0 1.02-.2 1.41-.59l7.78-7.78 2.81-2.81c.8-.78.8-2.07 0-2.86zM5.41 20L4 18.59l7.72-7.72 1.47 1.35L5.41 20z\"/>\n",
              "  </svg>\n",
              "      </button>\n",
              "\n",
              "\n",
              "\n",
              "    <div id=\"df-4c0cc10d-820c-4f56-9897-f41abf7fcc43\">\n",
              "      <button class=\"colab-df-quickchart\" onclick=\"quickchart('df-4c0cc10d-820c-4f56-9897-f41abf7fcc43')\"\n",
              "              title=\"Suggest charts.\"\n",
              "              style=\"display:none;\">\n",
              "\n",
              "<svg xmlns=\"http://www.w3.org/2000/svg\" height=\"24px\"viewBox=\"0 0 24 24\"\n",
              "     width=\"24px\">\n",
              "    <g>\n",
              "        <path d=\"M19 3H5c-1.1 0-2 .9-2 2v14c0 1.1.9 2 2 2h14c1.1 0 2-.9 2-2V5c0-1.1-.9-2-2-2zM9 17H7v-7h2v7zm4 0h-2V7h2v10zm4 0h-2v-4h2v4z\"/>\n",
              "    </g>\n",
              "</svg>\n",
              "      </button>\n",
              "    </div>\n",
              "\n",
              "<style>\n",
              "  .colab-df-quickchart {\n",
              "    background-color: #E8F0FE;\n",
              "    border: none;\n",
              "    border-radius: 50%;\n",
              "    cursor: pointer;\n",
              "    display: none;\n",
              "    fill: #1967D2;\n",
              "    height: 32px;\n",
              "    padding: 0 0 0 0;\n",
              "    width: 32px;\n",
              "  }\n",
              "\n",
              "  .colab-df-quickchart:hover {\n",
              "    background-color: #E2EBFA;\n",
              "    box-shadow: 0px 1px 2px rgba(60, 64, 67, 0.3), 0px 1px 3px 1px rgba(60, 64, 67, 0.15);\n",
              "    fill: #174EA6;\n",
              "  }\n",
              "\n",
              "  [theme=dark] .colab-df-quickchart {\n",
              "    background-color: #3B4455;\n",
              "    fill: #D2E3FC;\n",
              "  }\n",
              "\n",
              "  [theme=dark] .colab-df-quickchart:hover {\n",
              "    background-color: #434B5C;\n",
              "    box-shadow: 0px 1px 3px 1px rgba(0, 0, 0, 0.15);\n",
              "    filter: drop-shadow(0px 1px 2px rgba(0, 0, 0, 0.3));\n",
              "    fill: #FFFFFF;\n",
              "  }\n",
              "</style>\n",
              "\n",
              "    <script>\n",
              "      async function quickchart(key) {\n",
              "        const containerElement = document.querySelector('#' + key);\n",
              "        const charts = await google.colab.kernel.invokeFunction(\n",
              "            'suggestCharts', [key], {});\n",
              "      }\n",
              "    </script>\n",
              "\n",
              "      <script>\n",
              "\n",
              "function displayQuickchartButton(domScope) {\n",
              "  let quickchartButtonEl =\n",
              "    domScope.querySelector('#df-4c0cc10d-820c-4f56-9897-f41abf7fcc43 button.colab-df-quickchart');\n",
              "  quickchartButtonEl.style.display =\n",
              "    google.colab.kernel.accessAllowed ? 'block' : 'none';\n",
              "}\n",
              "\n",
              "        displayQuickchartButton(document);\n",
              "      </script>\n",
              "      <style>\n",
              "    .colab-df-container {\n",
              "      display:flex;\n",
              "      flex-wrap:wrap;\n",
              "      gap: 12px;\n",
              "    }\n",
              "\n",
              "    .colab-df-convert {\n",
              "      background-color: #E8F0FE;\n",
              "      border: none;\n",
              "      border-radius: 50%;\n",
              "      cursor: pointer;\n",
              "      display: none;\n",
              "      fill: #1967D2;\n",
              "      height: 32px;\n",
              "      padding: 0 0 0 0;\n",
              "      width: 32px;\n",
              "    }\n",
              "\n",
              "    .colab-df-convert:hover {\n",
              "      background-color: #E2EBFA;\n",
              "      box-shadow: 0px 1px 2px rgba(60, 64, 67, 0.3), 0px 1px 3px 1px rgba(60, 64, 67, 0.15);\n",
              "      fill: #174EA6;\n",
              "    }\n",
              "\n",
              "    [theme=dark] .colab-df-convert {\n",
              "      background-color: #3B4455;\n",
              "      fill: #D2E3FC;\n",
              "    }\n",
              "\n",
              "    [theme=dark] .colab-df-convert:hover {\n",
              "      background-color: #434B5C;\n",
              "      box-shadow: 0px 1px 3px 1px rgba(0, 0, 0, 0.15);\n",
              "      filter: drop-shadow(0px 1px 2px rgba(0, 0, 0, 0.3));\n",
              "      fill: #FFFFFF;\n",
              "    }\n",
              "  </style>\n",
              "\n",
              "      <script>\n",
              "        const buttonEl =\n",
              "          document.querySelector('#df-50b6819e-a9ac-4dd5-bfba-94fb6e135234 button.colab-df-convert');\n",
              "        buttonEl.style.display =\n",
              "          google.colab.kernel.accessAllowed ? 'block' : 'none';\n",
              "\n",
              "        async function convertToInteractive(key) {\n",
              "          const element = document.querySelector('#df-50b6819e-a9ac-4dd5-bfba-94fb6e135234');\n",
              "          const dataTable =\n",
              "            await google.colab.kernel.invokeFunction('convertToInteractive',\n",
              "                                                     [key], {});\n",
              "          if (!dataTable) return;\n",
              "\n",
              "          const docLinkHtml = 'Like what you see? Visit the ' +\n",
              "            '<a target=\"_blank\" href=https://colab.research.google.com/notebooks/data_table.ipynb>data table notebook</a>'\n",
              "            + ' to learn more about interactive tables.';\n",
              "          element.innerHTML = '';\n",
              "          dataTable['output_type'] = 'display_data';\n",
              "          await google.colab.output.renderOutput(dataTable, element);\n",
              "          const docLink = document.createElement('div');\n",
              "          docLink.innerHTML = docLinkHtml;\n",
              "          element.appendChild(docLink);\n",
              "        }\n",
              "      </script>\n",
              "    </div>\n",
              "  </div>\n"
            ]
          },
          "metadata": {},
          "execution_count": 83
        }
      ]
    },
    {
      "cell_type": "code",
      "source": [
        "#How many rows and columns are there in the dataset?\n",
        "print(\"There are \",df.shape[0],\" Rows, and \",df.shape[1],' Columns')"
      ],
      "metadata": {
        "colab": {
          "base_uri": "https://localhost:8080/"
        },
        "id": "gIGNxbwmSHgl",
        "outputId": "cd187086-ce2c-4deb-c327-1f6586df1ff5"
      },
      "execution_count": 84,
      "outputs": [
        {
          "output_type": "stream",
          "name": "stdout",
          "text": [
            "There are  10000  Rows, and  14  Columns\n"
          ]
        }
      ]
    },
    {
      "cell_type": "code",
      "source": [
        "#What are the columns?\n",
        "features=list(df.columns)\n",
        "features"
      ],
      "metadata": {
        "colab": {
          "base_uri": "https://localhost:8080/"
        },
        "id": "84bHg5_KTiH7",
        "outputId": "792b3f43-e254-4035-88ef-feb43c3722ff"
      },
      "execution_count": 85,
      "outputs": [
        {
          "output_type": "execute_result",
          "data": {
            "text/plain": [
              "['RowNumber',\n",
              " 'CustomerId',\n",
              " 'Surname',\n",
              " 'CreditScore',\n",
              " 'Geography',\n",
              " 'Gender',\n",
              " 'Age',\n",
              " 'Tenure',\n",
              " 'Balance',\n",
              " 'NumOfProducts',\n",
              " 'HasCrCard',\n",
              " 'IsActiveMember',\n",
              " 'EstimatedSalary',\n",
              " 'Exited']"
            ]
          },
          "metadata": {},
          "execution_count": 85
        }
      ]
    },
    {
      "cell_type": "markdown",
      "source": [
        "![Screen Shot 1445-01-04 at 8.18.59 PM.png](data:image/png;base64,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)"
      ],
      "metadata": {
        "id": "Fkq8RUWfnKqe"
      }
    },
    {
      "cell_type": "code",
      "source": [
        "#What are the data types presented?\n",
        "df.info()"
      ],
      "metadata": {
        "colab": {
          "base_uri": "https://localhost:8080/"
        },
        "id": "o50vb4fiTtSO",
        "outputId": "486a130e-3b51-4c3f-8093-ed324cbdd760"
      },
      "execution_count": 86,
      "outputs": [
        {
          "output_type": "stream",
          "name": "stdout",
          "text": [
            "<class 'pandas.core.frame.DataFrame'>\n",
            "RangeIndex: 10000 entries, 0 to 9999\n",
            "Data columns (total 14 columns):\n",
            " #   Column           Non-Null Count  Dtype  \n",
            "---  ------           --------------  -----  \n",
            " 0   RowNumber        10000 non-null  int64  \n",
            " 1   CustomerId       10000 non-null  int64  \n",
            " 2   Surname          10000 non-null  object \n",
            " 3   CreditScore      10000 non-null  int64  \n",
            " 4   Geography        10000 non-null  object \n",
            " 5   Gender           10000 non-null  object \n",
            " 6   Age              10000 non-null  int64  \n",
            " 7   Tenure           10000 non-null  int64  \n",
            " 8   Balance          10000 non-null  float64\n",
            " 9   NumOfProducts    10000 non-null  int64  \n",
            " 10  HasCrCard        10000 non-null  int64  \n",
            " 11  IsActiveMember   10000 non-null  int64  \n",
            " 12  EstimatedSalary  10000 non-null  float64\n",
            " 13  Exited           10000 non-null  int64  \n",
            "dtypes: float64(2), int64(9), object(3)\n",
            "memory usage: 1.1+ MB\n"
          ]
        }
      ]
    },
    {
      "cell_type": "markdown",
      "source": [
        "Three catogirical data:\n",
        "- Gender\n",
        "- IsActive\n",
        "- Churn\n",
        "- HasCCarad"
      ],
      "metadata": {
        "id": "3aQX-2BAUQbj"
      }
    },
    {
      "cell_type": "markdown",
      "source": [
        "## Data Cleaning"
      ],
      "metadata": {
        "id": "dcMLoEYaUs7F"
      }
    },
    {
      "cell_type": "markdown",
      "source": [
        "### Duplicated"
      ],
      "metadata": {
        "id": "o6MazSbWUxuf"
      }
    },
    {
      "cell_type": "code",
      "source": [
        "print('Number of duplicated rows: ',df.duplicated().sum())"
      ],
      "metadata": {
        "colab": {
          "base_uri": "https://localhost:8080/"
        },
        "id": "KqSYBnOGUH01",
        "outputId": "32e7e2a1-9b3b-4f84-de35-5feb815c6613"
      },
      "execution_count": 87,
      "outputs": [
        {
          "output_type": "stream",
          "name": "stdout",
          "text": [
            "Number of duplicated rows:  0\n"
          ]
        }
      ]
    },
    {
      "cell_type": "markdown",
      "source": [
        "### Null values"
      ],
      "metadata": {
        "id": "pM-AZn5-U9lH"
      }
    },
    {
      "cell_type": "code",
      "source": [
        "print('Number of Null values: ',df.isnull().sum().sum())"
      ],
      "metadata": {
        "colab": {
          "base_uri": "https://localhost:8080/"
        },
        "id": "v9qBAib2U8Ma",
        "outputId": "43636241-600a-42ab-c912-f52fc7be7d1c"
      },
      "execution_count": 88,
      "outputs": [
        {
          "output_type": "stream",
          "name": "stdout",
          "text": [
            "Number of Null values:  0\n"
          ]
        }
      ]
    },
    {
      "cell_type": "markdown",
      "source": [
        "## Feature Engineering:"
      ],
      "metadata": {
        "id": "A5mztip9VK9R"
      }
    },
    {
      "cell_type": "markdown",
      "source": [
        "### Feature Selection"
      ],
      "metadata": {
        "id": "UldnIDZXory1"
      }
    },
    {
      "cell_type": "markdown",
      "source": [
        "\n",
        "\n",
        "Feature Selection process:\n",
        "- What kind of model we need? Classification model\n",
        "- Target variable: Churn variable\n",
        "- Collection of features that you think might help predict on your chosen target\n",
        "[CreditScore',\n",
        " 'Geography',\n",
        " 'Gender',\n",
        " 'Age',\n",
        " 'Tenure',\n",
        " 'Balance',\n",
        " 'NumOfProducts',\n",
        " 'HasCrCard',\n",
        " 'IsActiveMember',\n",
        " 'EstimatedSalary',\n",
        " 'Exited']\n",
        "\n",
        " - Gender is also can be dropped as we do not want to build a biased model based on customer gender"
      ],
      "metadata": {
        "id": "BOqNgsCApEMf"
      }
    },
    {
      "cell_type": "code",
      "source": [
        "df.drop(['RowNumber','CustomerId','Surname', 'Gender'],axis=1,inplace=True)"
      ],
      "metadata": {
        "id": "vm3mYwtMVFNZ"
      },
      "execution_count": 89,
      "outputs": []
    },
    {
      "cell_type": "code",
      "source": [
        "df.head()"
      ],
      "metadata": {
        "colab": {
          "base_uri": "https://localhost:8080/",
          "height": 206
        },
        "id": "DMXCoT4EqWzV",
        "outputId": "c11a9877-9749-402e-f4a9-8c44879a969e"
      },
      "execution_count": 90,
      "outputs": [
        {
          "output_type": "execute_result",
          "data": {
            "text/plain": [
              "   CreditScore Geography  Age  Tenure    Balance  NumOfProducts  HasCrCard  \\\n",
              "0          619    France   42       2       0.00              1          1   \n",
              "1          608     Spain   41       1   83807.86              1          0   \n",
              "2          502    France   42       8  159660.80              3          1   \n",
              "3          699    France   39       1       0.00              2          0   \n",
              "4          850     Spain   43       2  125510.82              1          1   \n",
              "\n",
              "   IsActiveMember  EstimatedSalary  Exited  \n",
              "0               1        101348.88       1  \n",
              "1               1        112542.58       0  \n",
              "2               0        113931.57       1  \n",
              "3               0         93826.63       0  \n",
              "4               1         79084.10       0  "
            ],
            "text/html": [
              "\n",
              "\n",
              "  <div id=\"df-fb399a48-9f85-493f-8b7b-5edc64381c09\">\n",
              "    <div class=\"colab-df-container\">\n",
              "      <div>\n",
              "<style scoped>\n",
              "    .dataframe tbody tr th:only-of-type {\n",
              "        vertical-align: middle;\n",
              "    }\n",
              "\n",
              "    .dataframe tbody tr th {\n",
              "        vertical-align: top;\n",
              "    }\n",
              "\n",
              "    .dataframe thead th {\n",
              "        text-align: right;\n",
              "    }\n",
              "</style>\n",
              "<table border=\"1\" class=\"dataframe\">\n",
              "  <thead>\n",
              "    <tr style=\"text-align: right;\">\n",
              "      <th></th>\n",
              "      <th>CreditScore</th>\n",
              "      <th>Geography</th>\n",
              "      <th>Age</th>\n",
              "      <th>Tenure</th>\n",
              "      <th>Balance</th>\n",
              "      <th>NumOfProducts</th>\n",
              "      <th>HasCrCard</th>\n",
              "      <th>IsActiveMember</th>\n",
              "      <th>EstimatedSalary</th>\n",
              "      <th>Exited</th>\n",
              "    </tr>\n",
              "  </thead>\n",
              "  <tbody>\n",
              "    <tr>\n",
              "      <th>0</th>\n",
              "      <td>619</td>\n",
              "      <td>France</td>\n",
              "      <td>42</td>\n",
              "      <td>2</td>\n",
              "      <td>0.00</td>\n",
              "      <td>1</td>\n",
              "      <td>1</td>\n",
              "      <td>1</td>\n",
              "      <td>101348.88</td>\n",
              "      <td>1</td>\n",
              "    </tr>\n",
              "    <tr>\n",
              "      <th>1</th>\n",
              "      <td>608</td>\n",
              "      <td>Spain</td>\n",
              "      <td>41</td>\n",
              "      <td>1</td>\n",
              "      <td>83807.86</td>\n",
              "      <td>1</td>\n",
              "      <td>0</td>\n",
              "      <td>1</td>\n",
              "      <td>112542.58</td>\n",
              "      <td>0</td>\n",
              "    </tr>\n",
              "    <tr>\n",
              "      <th>2</th>\n",
              "      <td>502</td>\n",
              "      <td>France</td>\n",
              "      <td>42</td>\n",
              "      <td>8</td>\n",
              "      <td>159660.80</td>\n",
              "      <td>3</td>\n",
              "      <td>1</td>\n",
              "      <td>0</td>\n",
              "      <td>113931.57</td>\n",
              "      <td>1</td>\n",
              "    </tr>\n",
              "    <tr>\n",
              "      <th>3</th>\n",
              "      <td>699</td>\n",
              "      <td>France</td>\n",
              "      <td>39</td>\n",
              "      <td>1</td>\n",
              "      <td>0.00</td>\n",
              "      <td>2</td>\n",
              "      <td>0</td>\n",
              "      <td>0</td>\n",
              "      <td>93826.63</td>\n",
              "      <td>0</td>\n",
              "    </tr>\n",
              "    <tr>\n",
              "      <th>4</th>\n",
              "      <td>850</td>\n",
              "      <td>Spain</td>\n",
              "      <td>43</td>\n",
              "      <td>2</td>\n",
              "      <td>125510.82</td>\n",
              "      <td>1</td>\n",
              "      <td>1</td>\n",
              "      <td>1</td>\n",
              "      <td>79084.10</td>\n",
              "      <td>0</td>\n",
              "    </tr>\n",
              "  </tbody>\n",
              "</table>\n",
              "</div>\n",
              "      <button class=\"colab-df-convert\" onclick=\"convertToInteractive('df-fb399a48-9f85-493f-8b7b-5edc64381c09')\"\n",
              "              title=\"Convert this dataframe to an interactive table.\"\n",
              "              style=\"display:none;\">\n",
              "\n",
              "  <svg xmlns=\"http://www.w3.org/2000/svg\" height=\"24px\"viewBox=\"0 0 24 24\"\n",
              "       width=\"24px\">\n",
              "    <path d=\"M0 0h24v24H0V0z\" fill=\"none\"/>\n",
              "    <path d=\"M18.56 5.44l.94 2.06.94-2.06 2.06-.94-2.06-.94-.94-2.06-.94 2.06-2.06.94zm-11 1L8.5 8.5l.94-2.06 2.06-.94-2.06-.94L8.5 2.5l-.94 2.06-2.06.94zm10 10l.94 2.06.94-2.06 2.06-.94-2.06-.94-.94-2.06-.94 2.06-2.06.94z\"/><path d=\"M17.41 7.96l-1.37-1.37c-.4-.4-.92-.59-1.43-.59-.52 0-1.04.2-1.43.59L10.3 9.45l-7.72 7.72c-.78.78-.78 2.05 0 2.83L4 21.41c.39.39.9.59 1.41.59.51 0 1.02-.2 1.41-.59l7.78-7.78 2.81-2.81c.8-.78.8-2.07 0-2.86zM5.41 20L4 18.59l7.72-7.72 1.47 1.35L5.41 20z\"/>\n",
              "  </svg>\n",
              "      </button>\n",
              "\n",
              "\n",
              "\n",
              "    <div id=\"df-bbd720be-2bfd-49fa-84eb-5741cec02571\">\n",
              "      <button class=\"colab-df-quickchart\" onclick=\"quickchart('df-bbd720be-2bfd-49fa-84eb-5741cec02571')\"\n",
              "              title=\"Suggest charts.\"\n",
              "              style=\"display:none;\">\n",
              "\n",
              "<svg xmlns=\"http://www.w3.org/2000/svg\" height=\"24px\"viewBox=\"0 0 24 24\"\n",
              "     width=\"24px\">\n",
              "    <g>\n",
              "        <path d=\"M19 3H5c-1.1 0-2 .9-2 2v14c0 1.1.9 2 2 2h14c1.1 0 2-.9 2-2V5c0-1.1-.9-2-2-2zM9 17H7v-7h2v7zm4 0h-2V7h2v10zm4 0h-2v-4h2v4z\"/>\n",
              "    </g>\n",
              "</svg>\n",
              "      </button>\n",
              "    </div>\n",
              "\n",
              "<style>\n",
              "  .colab-df-quickchart {\n",
              "    background-color: #E8F0FE;\n",
              "    border: none;\n",
              "    border-radius: 50%;\n",
              "    cursor: pointer;\n",
              "    display: none;\n",
              "    fill: #1967D2;\n",
              "    height: 32px;\n",
              "    padding: 0 0 0 0;\n",
              "    width: 32px;\n",
              "  }\n",
              "\n",
              "  .colab-df-quickchart:hover {\n",
              "    background-color: #E2EBFA;\n",
              "    box-shadow: 0px 1px 2px rgba(60, 64, 67, 0.3), 0px 1px 3px 1px rgba(60, 64, 67, 0.15);\n",
              "    fill: #174EA6;\n",
              "  }\n",
              "\n",
              "  [theme=dark] .colab-df-quickchart {\n",
              "    background-color: #3B4455;\n",
              "    fill: #D2E3FC;\n",
              "  }\n",
              "\n",
              "  [theme=dark] .colab-df-quickchart:hover {\n",
              "    background-color: #434B5C;\n",
              "    box-shadow: 0px 1px 3px 1px rgba(0, 0, 0, 0.15);\n",
              "    filter: drop-shadow(0px 1px 2px rgba(0, 0, 0, 0.3));\n",
              "    fill: #FFFFFF;\n",
              "  }\n",
              "</style>\n",
              "\n",
              "    <script>\n",
              "      async function quickchart(key) {\n",
              "        const containerElement = document.querySelector('#' + key);\n",
              "        const charts = await google.colab.kernel.invokeFunction(\n",
              "            'suggestCharts', [key], {});\n",
              "      }\n",
              "    </script>\n",
              "\n",
              "      <script>\n",
              "\n",
              "function displayQuickchartButton(domScope) {\n",
              "  let quickchartButtonEl =\n",
              "    domScope.querySelector('#df-bbd720be-2bfd-49fa-84eb-5741cec02571 button.colab-df-quickchart');\n",
              "  quickchartButtonEl.style.display =\n",
              "    google.colab.kernel.accessAllowed ? 'block' : 'none';\n",
              "}\n",
              "\n",
              "        displayQuickchartButton(document);\n",
              "      </script>\n",
              "      <style>\n",
              "    .colab-df-container {\n",
              "      display:flex;\n",
              "      flex-wrap:wrap;\n",
              "      gap: 12px;\n",
              "    }\n",
              "\n",
              "    .colab-df-convert {\n",
              "      background-color: #E8F0FE;\n",
              "      border: none;\n",
              "      border-radius: 50%;\n",
              "      cursor: pointer;\n",
              "      display: none;\n",
              "      fill: #1967D2;\n",
              "      height: 32px;\n",
              "      padding: 0 0 0 0;\n",
              "      width: 32px;\n",
              "    }\n",
              "\n",
              "    .colab-df-convert:hover {\n",
              "      background-color: #E2EBFA;\n",
              "      box-shadow: 0px 1px 2px rgba(60, 64, 67, 0.3), 0px 1px 3px 1px rgba(60, 64, 67, 0.15);\n",
              "      fill: #174EA6;\n",
              "    }\n",
              "\n",
              "    [theme=dark] .colab-df-convert {\n",
              "      background-color: #3B4455;\n",
              "      fill: #D2E3FC;\n",
              "    }\n",
              "\n",
              "    [theme=dark] .colab-df-convert:hover {\n",
              "      background-color: #434B5C;\n",
              "      box-shadow: 0px 1px 3px 1px rgba(0, 0, 0, 0.15);\n",
              "      filter: drop-shadow(0px 1px 2px rgba(0, 0, 0, 0.3));\n",
              "      fill: #FFFFFF;\n",
              "    }\n",
              "  </style>\n",
              "\n",
              "      <script>\n",
              "        const buttonEl =\n",
              "          document.querySelector('#df-fb399a48-9f85-493f-8b7b-5edc64381c09 button.colab-df-convert');\n",
              "        buttonEl.style.display =\n",
              "          google.colab.kernel.accessAllowed ? 'block' : 'none';\n",
              "\n",
              "        async function convertToInteractive(key) {\n",
              "          const element = document.querySelector('#df-fb399a48-9f85-493f-8b7b-5edc64381c09');\n",
              "          const dataTable =\n",
              "            await google.colab.kernel.invokeFunction('convertToInteractive',\n",
              "                                                     [key], {});\n",
              "          if (!dataTable) return;\n",
              "\n",
              "          const docLinkHtml = 'Like what you see? Visit the ' +\n",
              "            '<a target=\"_blank\" href=https://colab.research.google.com/notebooks/data_table.ipynb>data table notebook</a>'\n",
              "            + ' to learn more about interactive tables.';\n",
              "          element.innerHTML = '';\n",
              "          dataTable['output_type'] = 'display_data';\n",
              "          await google.colab.output.renderOutput(dataTable, element);\n",
              "          const docLink = document.createElement('div');\n",
              "          docLink.innerHTML = docLinkHtml;\n",
              "          element.appendChild(docLink);\n",
              "        }\n",
              "      </script>\n",
              "    </div>\n",
              "  </div>\n"
            ]
          },
          "metadata": {},
          "execution_count": 90
        }
      ]
    },
    {
      "cell_type": "markdown",
      "source": [
        "### Feature Extraction"
      ],
      "metadata": {
        "id": "pM2B31sbQjF7"
      }
    },
    {
      "cell_type": "code",
      "source": [
        "#New column can be extracted from the age and the years for a customer in the bank:\n",
        "df['portioninage']=df['Tenure']/df['Age']"
      ],
      "metadata": {
        "id": "rk4g3MUjQv1C"
      },
      "execution_count": 91,
      "outputs": []
    },
    {
      "cell_type": "code",
      "source": [
        "(df[['Age', 'Tenure','portioninage']])"
      ],
      "metadata": {
        "colab": {
          "base_uri": "https://localhost:8080/",
          "height": 424
        },
        "id": "T3pZ8wtpQv3j",
        "outputId": "09709e46-cf40-4b43-871a-cb4746b4c08e"
      },
      "execution_count": 92,
      "outputs": [
        {
          "output_type": "execute_result",
          "data": {
            "text/plain": [
              "      Age  Tenure  portioninage\n",
              "0      42       2      0.047619\n",
              "1      41       1      0.024390\n",
              "2      42       8      0.190476\n",
              "3      39       1      0.025641\n",
              "4      43       2      0.046512\n",
              "...   ...     ...           ...\n",
              "9995   39       5      0.128205\n",
              "9996   35      10      0.285714\n",
              "9997   36       7      0.194444\n",
              "9998   42       3      0.071429\n",
              "9999   28       4      0.142857\n",
              "\n",
              "[10000 rows x 3 columns]"
            ],
            "text/html": [
              "\n",
              "\n",
              "  <div id=\"df-59a33bd0-3383-40ee-ab69-1b6416fd6414\">\n",
              "    <div class=\"colab-df-container\">\n",
              "      <div>\n",
              "<style scoped>\n",
              "    .dataframe tbody tr th:only-of-type {\n",
              "        vertical-align: middle;\n",
              "    }\n",
              "\n",
              "    .dataframe tbody tr th {\n",
              "        vertical-align: top;\n",
              "    }\n",
              "\n",
              "    .dataframe thead th {\n",
              "        text-align: right;\n",
              "    }\n",
              "</style>\n",
              "<table border=\"1\" class=\"dataframe\">\n",
              "  <thead>\n",
              "    <tr style=\"text-align: right;\">\n",
              "      <th></th>\n",
              "      <th>Age</th>\n",
              "      <th>Tenure</th>\n",
              "      <th>portioninage</th>\n",
              "    </tr>\n",
              "  </thead>\n",
              "  <tbody>\n",
              "    <tr>\n",
              "      <th>0</th>\n",
              "      <td>42</td>\n",
              "      <td>2</td>\n",
              "      <td>0.047619</td>\n",
              "    </tr>\n",
              "    <tr>\n",
              "      <th>1</th>\n",
              "      <td>41</td>\n",
              "      <td>1</td>\n",
              "      <td>0.024390</td>\n",
              "    </tr>\n",
              "    <tr>\n",
              "      <th>2</th>\n",
              "      <td>42</td>\n",
              "      <td>8</td>\n",
              "      <td>0.190476</td>\n",
              "    </tr>\n",
              "    <tr>\n",
              "      <th>3</th>\n",
              "      <td>39</td>\n",
              "      <td>1</td>\n",
              "      <td>0.025641</td>\n",
              "    </tr>\n",
              "    <tr>\n",
              "      <th>4</th>\n",
              "      <td>43</td>\n",
              "      <td>2</td>\n",
              "      <td>0.046512</td>\n",
              "    </tr>\n",
              "    <tr>\n",
              "      <th>...</th>\n",
              "      <td>...</td>\n",
              "      <td>...</td>\n",
              "      <td>...</td>\n",
              "    </tr>\n",
              "    <tr>\n",
              "      <th>9995</th>\n",
              "      <td>39</td>\n",
              "      <td>5</td>\n",
              "      <td>0.128205</td>\n",
              "    </tr>\n",
              "    <tr>\n",
              "      <th>9996</th>\n",
              "      <td>35</td>\n",
              "      <td>10</td>\n",
              "      <td>0.285714</td>\n",
              "    </tr>\n",
              "    <tr>\n",
              "      <th>9997</th>\n",
              "      <td>36</td>\n",
              "      <td>7</td>\n",
              "      <td>0.194444</td>\n",
              "    </tr>\n",
              "    <tr>\n",
              "      <th>9998</th>\n",
              "      <td>42</td>\n",
              "      <td>3</td>\n",
              "      <td>0.071429</td>\n",
              "    </tr>\n",
              "    <tr>\n",
              "      <th>9999</th>\n",
              "      <td>28</td>\n",
              "      <td>4</td>\n",
              "      <td>0.142857</td>\n",
              "    </tr>\n",
              "  </tbody>\n",
              "</table>\n",
              "<p>10000 rows × 3 columns</p>\n",
              "</div>\n",
              "      <button class=\"colab-df-convert\" onclick=\"convertToInteractive('df-59a33bd0-3383-40ee-ab69-1b6416fd6414')\"\n",
              "              title=\"Convert this dataframe to an interactive table.\"\n",
              "              style=\"display:none;\">\n",
              "\n",
              "  <svg xmlns=\"http://www.w3.org/2000/svg\" height=\"24px\"viewBox=\"0 0 24 24\"\n",
              "       width=\"24px\">\n",
              "    <path d=\"M0 0h24v24H0V0z\" fill=\"none\"/>\n",
              "    <path d=\"M18.56 5.44l.94 2.06.94-2.06 2.06-.94-2.06-.94-.94-2.06-.94 2.06-2.06.94zm-11 1L8.5 8.5l.94-2.06 2.06-.94-2.06-.94L8.5 2.5l-.94 2.06-2.06.94zm10 10l.94 2.06.94-2.06 2.06-.94-2.06-.94-.94-2.06-.94 2.06-2.06.94z\"/><path d=\"M17.41 7.96l-1.37-1.37c-.4-.4-.92-.59-1.43-.59-.52 0-1.04.2-1.43.59L10.3 9.45l-7.72 7.72c-.78.78-.78 2.05 0 2.83L4 21.41c.39.39.9.59 1.41.59.51 0 1.02-.2 1.41-.59l7.78-7.78 2.81-2.81c.8-.78.8-2.07 0-2.86zM5.41 20L4 18.59l7.72-7.72 1.47 1.35L5.41 20z\"/>\n",
              "  </svg>\n",
              "      </button>\n",
              "\n",
              "\n",
              "\n",
              "    <div id=\"df-eeca7370-fc4c-4388-be7a-0454eec9b85f\">\n",
              "      <button class=\"colab-df-quickchart\" onclick=\"quickchart('df-eeca7370-fc4c-4388-be7a-0454eec9b85f')\"\n",
              "              title=\"Suggest charts.\"\n",
              "              style=\"display:none;\">\n",
              "\n",
              "<svg xmlns=\"http://www.w3.org/2000/svg\" height=\"24px\"viewBox=\"0 0 24 24\"\n",
              "     width=\"24px\">\n",
              "    <g>\n",
              "        <path d=\"M19 3H5c-1.1 0-2 .9-2 2v14c0 1.1.9 2 2 2h14c1.1 0 2-.9 2-2V5c0-1.1-.9-2-2-2zM9 17H7v-7h2v7zm4 0h-2V7h2v10zm4 0h-2v-4h2v4z\"/>\n",
              "    </g>\n",
              "</svg>\n",
              "      </button>\n",
              "    </div>\n",
              "\n",
              "<style>\n",
              "  .colab-df-quickchart {\n",
              "    background-color: #E8F0FE;\n",
              "    border: none;\n",
              "    border-radius: 50%;\n",
              "    cursor: pointer;\n",
              "    display: none;\n",
              "    fill: #1967D2;\n",
              "    height: 32px;\n",
              "    padding: 0 0 0 0;\n",
              "    width: 32px;\n",
              "  }\n",
              "\n",
              "  .colab-df-quickchart:hover {\n",
              "    background-color: #E2EBFA;\n",
              "    box-shadow: 0px 1px 2px rgba(60, 64, 67, 0.3), 0px 1px 3px 1px rgba(60, 64, 67, 0.15);\n",
              "    fill: #174EA6;\n",
              "  }\n",
              "\n",
              "  [theme=dark] .colab-df-quickchart {\n",
              "    background-color: #3B4455;\n",
              "    fill: #D2E3FC;\n",
              "  }\n",
              "\n",
              "  [theme=dark] .colab-df-quickchart:hover {\n",
              "    background-color: #434B5C;\n",
              "    box-shadow: 0px 1px 3px 1px rgba(0, 0, 0, 0.15);\n",
              "    filter: drop-shadow(0px 1px 2px rgba(0, 0, 0, 0.3));\n",
              "    fill: #FFFFFF;\n",
              "  }\n",
              "</style>\n",
              "\n",
              "    <script>\n",
              "      async function quickchart(key) {\n",
              "        const containerElement = document.querySelector('#' + key);\n",
              "        const charts = await google.colab.kernel.invokeFunction(\n",
              "            'suggestCharts', [key], {});\n",
              "      }\n",
              "    </script>\n",
              "\n",
              "      <script>\n",
              "\n",
              "function displayQuickchartButton(domScope) {\n",
              "  let quickchartButtonEl =\n",
              "    domScope.querySelector('#df-eeca7370-fc4c-4388-be7a-0454eec9b85f button.colab-df-quickchart');\n",
              "  quickchartButtonEl.style.display =\n",
              "    google.colab.kernel.accessAllowed ? 'block' : 'none';\n",
              "}\n",
              "\n",
              "        displayQuickchartButton(document);\n",
              "      </script>\n",
              "      <style>\n",
              "    .colab-df-container {\n",
              "      display:flex;\n",
              "      flex-wrap:wrap;\n",
              "      gap: 12px;\n",
              "    }\n",
              "\n",
              "    .colab-df-convert {\n",
              "      background-color: #E8F0FE;\n",
              "      border: none;\n",
              "      border-radius: 50%;\n",
              "      cursor: pointer;\n",
              "      display: none;\n",
              "      fill: #1967D2;\n",
              "      height: 32px;\n",
              "      padding: 0 0 0 0;\n",
              "      width: 32px;\n",
              "    }\n",
              "\n",
              "    .colab-df-convert:hover {\n",
              "      background-color: #E2EBFA;\n",
              "      box-shadow: 0px 1px 2px rgba(60, 64, 67, 0.3), 0px 1px 3px 1px rgba(60, 64, 67, 0.15);\n",
              "      fill: #174EA6;\n",
              "    }\n",
              "\n",
              "    [theme=dark] .colab-df-convert {\n",
              "      background-color: #3B4455;\n",
              "      fill: #D2E3FC;\n",
              "    }\n",
              "\n",
              "    [theme=dark] .colab-df-convert:hover {\n",
              "      background-color: #434B5C;\n",
              "      box-shadow: 0px 1px 3px 1px rgba(0, 0, 0, 0.15);\n",
              "      filter: drop-shadow(0px 1px 2px rgba(0, 0, 0, 0.3));\n",
              "      fill: #FFFFFF;\n",
              "    }\n",
              "  </style>\n",
              "\n",
              "      <script>\n",
              "        const buttonEl =\n",
              "          document.querySelector('#df-59a33bd0-3383-40ee-ab69-1b6416fd6414 button.colab-df-convert');\n",
              "        buttonEl.style.display =\n",
              "          google.colab.kernel.accessAllowed ? 'block' : 'none';\n",
              "\n",
              "        async function convertToInteractive(key) {\n",
              "          const element = document.querySelector('#df-59a33bd0-3383-40ee-ab69-1b6416fd6414');\n",
              "          const dataTable =\n",
              "            await google.colab.kernel.invokeFunction('convertToInteractive',\n",
              "                                                     [key], {});\n",
              "          if (!dataTable) return;\n",
              "\n",
              "          const docLinkHtml = 'Like what you see? Visit the ' +\n",
              "            '<a target=\"_blank\" href=https://colab.research.google.com/notebooks/data_table.ipynb>data table notebook</a>'\n",
              "            + ' to learn more about interactive tables.';\n",
              "          element.innerHTML = '';\n",
              "          dataTable['output_type'] = 'display_data';\n",
              "          await google.colab.output.renderOutput(dataTable, element);\n",
              "          const docLink = document.createElement('div');\n",
              "          docLink.innerHTML = docLinkHtml;\n",
              "          element.appendChild(docLink);\n",
              "        }\n",
              "      </script>\n",
              "    </div>\n",
              "  </div>\n"
            ]
          },
          "metadata": {},
          "execution_count": 92
        }
      ]
    },
    {
      "cell_type": "markdown",
      "source": [
        "### Feature Transformation"
      ],
      "metadata": {
        "id": "rMpz3LobSqI8"
      }
    },
    {
      "cell_type": "code",
      "source": [
        "#Make variables values fall into smaller range using some scalling method:\n",
        "scaler = MinMaxScaler()\n",
        "#we need to check first if the column fall into normal distribution or not"
      ],
      "metadata": {
        "id": "vTctBeZ_St8w"
      },
      "execution_count": 93,
      "outputs": []
    },
    {
      "cell_type": "markdown",
      "source": [
        "## Exploring each variable"
      ],
      "metadata": {
        "id": "cGL1IHotVSZ5"
      }
    },
    {
      "cell_type": "markdown",
      "source": [
        "### Age"
      ],
      "metadata": {
        "id": "w_Mim8FBYeBu"
      }
    },
    {
      "cell_type": "code",
      "source": [
        "df['Age'].describe()"
      ],
      "metadata": {
        "colab": {
          "base_uri": "https://localhost:8080/"
        },
        "id": "EhdPDyR6YBjI",
        "outputId": "b93d2acf-781c-45e2-c323-f9515710efcd"
      },
      "execution_count": 94,
      "outputs": [
        {
          "output_type": "execute_result",
          "data": {
            "text/plain": [
              "count    10000.000000\n",
              "mean        38.921800\n",
              "std         10.487806\n",
              "min         18.000000\n",
              "25%         32.000000\n",
              "50%         37.000000\n",
              "75%         44.000000\n",
              "max         92.000000\n",
              "Name: Age, dtype: float64"
            ]
          },
          "metadata": {},
          "execution_count": 94
        }
      ]
    },
    {
      "cell_type": "code",
      "source": [
        "histogrammer('Age',True)"
      ],
      "metadata": {
        "colab": {
          "base_uri": "https://localhost:8080/",
          "height": 410
        },
        "id": "kg610pCHYijl",
        "outputId": "96359e59-cc1f-46f2-d347-6d1050f0a10e"
      },
      "execution_count": 95,
      "outputs": [
        {
          "output_type": "display_data",
          "data": {
            "text/plain": [
              "<Figure size 500x400 with 1 Axes>"
            ],
            "image/png": "[encoded data removed]"
          },
          "metadata": {}
        }
      ]
    },
    {
      "cell_type": "code",
      "source": [
        "boxplotter('Age','Age','Age Outlier')"
      ],
      "metadata": {
        "colab": {
          "base_uri": "https://localhost:8080/",
          "height": 410
        },
        "id": "j_oGOlaeUI5C",
        "outputId": "c42bbe02-e858-4e5c-e7c2-54e025b11999"
      },
      "execution_count": 96,
      "outputs": [
        {
          "output_type": "display_data",
          "data": {
            "text/plain": [
              "<Figure size 500x400 with 1 Axes>"
            ],
            "image/png": "[encoded data removed]"
          },
          "metadata": {}
        }
      ]
    },
    {
      "cell_type": "code",
      "source": [
        "#Plot churn rate by Age:\n",
        "# Histogram\n",
        "pt.figure(figsize=(12,5))\n",
        "sns.histplot(data=df,\n",
        "             x='Age',\n",
        "             #bins=range(0,1201,20), #this is to specify the range to get only users drove at most 1200 km\n",
        "             hue='Exited',\n",
        "             multiple='fill',\n",
        "             )\n",
        "pt.ylabel('%', rotation=0)\n",
        "pt.title('Churn rate by customer age');"
      ],
      "metadata": {
        "colab": {
          "base_uri": "https://localhost:8080/",
          "height": 487
        },
        "id": "qDI3KyTeUaA6",
        "outputId": "90a72cc8-d6fb-4d09-bdf2-eb10d5b0d9e2"
      },
      "execution_count": 97,
      "outputs": [
        {
          "output_type": "display_data",
          "data": {
            "text/plain": [
              "<Figure size 1200x500 with 1 Axes>"
            ],
            "image/png": "[encoded data removed]"
          },
          "metadata": {}
        }
      ]
    },
    {
      "cell_type": "markdown",
      "source": [
        "The churn rate increase as the customer get older, then comes back to drop. There is also some extreme values for customer more than 75 years old"
      ],
      "metadata": {
        "id": "T3Le5h7HVXUr"
      }
    },
    {
      "cell_type": "markdown",
      "source": [
        "bins= [-1,0,2,4,13,20, 110]\n",
        "labels = ['unknown','Infant','Toddler','Kid','Teen', 'Adult']\n",
        "X_train_data['AgeGroup'] = pd.cut(X_train_data['Age'], bins=bins, labels=labels, right=False)\n"
      ],
      "metadata": {
        "id": "QFFfLRI7WGib"
      }
    },
    {
      "cell_type": "markdown",
      "source": [
        "customer from 18 to 35 have low churn rate, to 56 years customer the churn rate raise, then fall back again for customer aging 57 to 74 and more"
      ],
      "metadata": {
        "id": "p9jLifd5WP0j"
      }
    },
    {
      "cell_type": "code",
      "source": [
        "df['age_by_decade'] = pd.cut(x=df['Age'], bins=[18,20, 29, 39, 49,59,69,79,89,99], labels=['18s','20s', '30s', '40s','50s','60s','70s','80s','90s'])"
      ],
      "metadata": {
        "id": "eHsTn7xKWPkb"
      },
      "execution_count": 98,
      "outputs": []
    },
    {
      "cell_type": "code",
      "source": [
        "(df[['Age', 'age_by_decade']]).tail()"
      ],
      "metadata": {
        "colab": {
          "base_uri": "https://localhost:8080/",
          "height": 206
        },
        "id": "5HZs_RcHVXJF",
        "outputId": "d2622861-bc38-40cf-f5b3-7fea4f53cdd2"
      },
      "execution_count": 99,
      "outputs": [
        {
          "output_type": "execute_result",
          "data": {
            "text/plain": [
              "      Age age_by_decade\n",
              "9995   39           30s\n",
              "9996   35           30s\n",
              "9997   36           30s\n",
              "9998   42           40s\n",
              "9999   28           20s"
            ],
            "text/html": [
              "\n",
              "\n",
              "  <div id=\"df-f54a14fc-f87e-459b-a942-a8e782722e7a\">\n",
              "    <div class=\"colab-df-container\">\n",
              "      <div>\n",
              "<style scoped>\n",
              "    .dataframe tbody tr th:only-of-type {\n",
              "        vertical-align: middle;\n",
              "    }\n",
              "\n",
              "    .dataframe tbody tr th {\n",
              "        vertical-align: top;\n",
              "    }\n",
              "\n",
              "    .dataframe thead th {\n",
              "        text-align: right;\n",
              "    }\n",
              "</style>\n",
              "<table border=\"1\" class=\"dataframe\">\n",
              "  <thead>\n",
              "    <tr style=\"text-align: right;\">\n",
              "      <th></th>\n",
              "      <th>Age</th>\n",
              "      <th>age_by_decade</th>\n",
              "    </tr>\n",
              "  </thead>\n",
              "  <tbody>\n",
              "    <tr>\n",
              "      <th>9995</th>\n",
              "      <td>39</td>\n",
              "      <td>30s</td>\n",
              "    </tr>\n",
              "    <tr>\n",
              "      <th>9996</th>\n",
              "      <td>35</td>\n",
              "      <td>30s</td>\n",
              "    </tr>\n",
              "    <tr>\n",
              "      <th>9997</th>\n",
              "      <td>36</td>\n",
              "      <td>30s</td>\n",
              "    </tr>\n",
              "    <tr>\n",
              "      <th>9998</th>\n",
              "      <td>42</td>\n",
              "      <td>40s</td>\n",
              "    </tr>\n",
              "    <tr>\n",
              "      <th>9999</th>\n",
              "      <td>28</td>\n",
              "      <td>20s</td>\n",
              "    </tr>\n",
              "  </tbody>\n",
              "</table>\n",
              "</div>\n",
              "      <button class=\"colab-df-convert\" onclick=\"convertToInteractive('df-f54a14fc-f87e-459b-a942-a8e782722e7a')\"\n",
              "              title=\"Convert this dataframe to an interactive table.\"\n",
              "              style=\"display:none;\">\n",
              "\n",
              "  <svg xmlns=\"http://www.w3.org/2000/svg\" height=\"24px\"viewBox=\"0 0 24 24\"\n",
              "       width=\"24px\">\n",
              "    <path d=\"M0 0h24v24H0V0z\" fill=\"none\"/>\n",
              "    <path d=\"M18.56 5.44l.94 2.06.94-2.06 2.06-.94-2.06-.94-.94-2.06-.94 2.06-2.06.94zm-11 1L8.5 8.5l.94-2.06 2.06-.94-2.06-.94L8.5 2.5l-.94 2.06-2.06.94zm10 10l.94 2.06.94-2.06 2.06-.94-2.06-.94-.94-2.06-.94 2.06-2.06.94z\"/><path d=\"M17.41 7.96l-1.37-1.37c-.4-.4-.92-.59-1.43-.59-.52 0-1.04.2-1.43.59L10.3 9.45l-7.72 7.72c-.78.78-.78 2.05 0 2.83L4 21.41c.39.39.9.59 1.41.59.51 0 1.02-.2 1.41-.59l7.78-7.78 2.81-2.81c.8-.78.8-2.07 0-2.86zM5.41 20L4 18.59l7.72-7.72 1.47 1.35L5.41 20z\"/>\n",
              "  </svg>\n",
              "      </button>\n",
              "\n",
              "\n",
              "\n",
              "    <div id=\"df-fd60104f-8671-4152-b97e-8262ff32523c\">\n",
              "      <button class=\"colab-df-quickchart\" onclick=\"quickchart('df-fd60104f-8671-4152-b97e-8262ff32523c')\"\n",
              "              title=\"Suggest charts.\"\n",
              "              style=\"display:none;\">\n",
              "\n",
              "<svg xmlns=\"http://www.w3.org/2000/svg\" height=\"24px\"viewBox=\"0 0 24 24\"\n",
              "     width=\"24px\">\n",
              "    <g>\n",
              "        <path d=\"M19 3H5c-1.1 0-2 .9-2 2v14c0 1.1.9 2 2 2h14c1.1 0 2-.9 2-2V5c0-1.1-.9-2-2-2zM9 17H7v-7h2v7zm4 0h-2V7h2v10zm4 0h-2v-4h2v4z\"/>\n",
              "    </g>\n",
              "</svg>\n",
              "      </button>\n",
              "    </div>\n",
              "\n",
              "<style>\n",
              "  .colab-df-quickchart {\n",
              "    background-color: #E8F0FE;\n",
              "    border: none;\n",
              "    border-radius: 50%;\n",
              "    cursor: pointer;\n",
              "    display: none;\n",
              "    fill: #1967D2;\n",
              "    height: 32px;\n",
              "    padding: 0 0 0 0;\n",
              "    width: 32px;\n",
              "  }\n",
              "\n",
              "  .colab-df-quickchart:hover {\n",
              "    background-color: #E2EBFA;\n",
              "    box-shadow: 0px 1px 2px rgba(60, 64, 67, 0.3), 0px 1px 3px 1px rgba(60, 64, 67, 0.15);\n",
              "    fill: #174EA6;\n",
              "  }\n",
              "\n",
              "  [theme=dark] .colab-df-quickchart {\n",
              "    background-color: #3B4455;\n",
              "    fill: #D2E3FC;\n",
              "  }\n",
              "\n",
              "  [theme=dark] .colab-df-quickchart:hover {\n",
              "    background-color: #434B5C;\n",
              "    box-shadow: 0px 1px 3px 1px rgba(0, 0, 0, 0.15);\n",
              "    filter: drop-shadow(0px 1px 2px rgba(0, 0, 0, 0.3));\n",
              "    fill: #FFFFFF;\n",
              "  }\n",
              "</style>\n",
              "\n",
              "    <script>\n",
              "      async function quickchart(key) {\n",
              "        const containerElement = document.querySelector('#' + key);\n",
              "        const charts = await google.colab.kernel.invokeFunction(\n",
              "            'suggestCharts', [key], {});\n",
              "      }\n",
              "    </script>\n",
              "\n",
              "      <script>\n",
              "\n",
              "function displayQuickchartButton(domScope) {\n",
              "  let quickchartButtonEl =\n",
              "    domScope.querySelector('#df-fd60104f-8671-4152-b97e-8262ff32523c button.colab-df-quickchart');\n",
              "  quickchartButtonEl.style.display =\n",
              "    google.colab.kernel.accessAllowed ? 'block' : 'none';\n",
              "}\n",
              "\n",
              "        displayQuickchartButton(document);\n",
              "      </script>\n",
              "      <style>\n",
              "    .colab-df-container {\n",
              "      display:flex;\n",
              "      flex-wrap:wrap;\n",
              "      gap: 12px;\n",
              "    }\n",
              "\n",
              "    .colab-df-convert {\n",
              "      background-color: #E8F0FE;\n",
              "      border: none;\n",
              "      border-radius: 50%;\n",
              "      cursor: pointer;\n",
              "      display: none;\n",
              "      fill: #1967D2;\n",
              "      height: 32px;\n",
              "      padding: 0 0 0 0;\n",
              "      width: 32px;\n",
              "    }\n",
              "\n",
              "    .colab-df-convert:hover {\n",
              "      background-color: #E2EBFA;\n",
              "      box-shadow: 0px 1px 2px rgba(60, 64, 67, 0.3), 0px 1px 3px 1px rgba(60, 64, 67, 0.15);\n",
              "      fill: #174EA6;\n",
              "    }\n",
              "\n",
              "    [theme=dark] .colab-df-convert {\n",
              "      background-color: #3B4455;\n",
              "      fill: #D2E3FC;\n",
              "    }\n",
              "\n",
              "    [theme=dark] .colab-df-convert:hover {\n",
              "      background-color: #434B5C;\n",
              "      box-shadow: 0px 1px 3px 1px rgba(0, 0, 0, 0.15);\n",
              "      filter: drop-shadow(0px 1px 2px rgba(0, 0, 0, 0.3));\n",
              "      fill: #FFFFFF;\n",
              "    }\n",
              "  </style>\n",
              "\n",
              "      <script>\n",
              "        const buttonEl =\n",
              "          document.querySelector('#df-f54a14fc-f87e-459b-a942-a8e782722e7a button.colab-df-convert');\n",
              "        buttonEl.style.display =\n",
              "          google.colab.kernel.accessAllowed ? 'block' : 'none';\n",
              "\n",
              "        async function convertToInteractive(key) {\n",
              "          const element = document.querySelector('#df-f54a14fc-f87e-459b-a942-a8e782722e7a');\n",
              "          const dataTable =\n",
              "            await google.colab.kernel.invokeFunction('convertToInteractive',\n",
              "                                                     [key], {});\n",
              "          if (!dataTable) return;\n",
              "\n",
              "          const docLinkHtml = 'Like what you see? Visit the ' +\n",
              "            '<a target=\"_blank\" href=https://colab.research.google.com/notebooks/data_table.ipynb>data table notebook</a>'\n",
              "            + ' to learn more about interactive tables.';\n",
              "          element.innerHTML = '';\n",
              "          dataTable['output_type'] = 'display_data';\n",
              "          await google.colab.output.renderOutput(dataTable, element);\n",
              "          const docLink = document.createElement('div');\n",
              "          docLink.innerHTML = docLinkHtml;\n",
              "          element.appendChild(docLink);\n",
              "        }\n",
              "      </script>\n",
              "    </div>\n",
              "  </div>\n"
            ]
          },
          "metadata": {},
          "execution_count": 99
        }
      ]
    },
    {
      "cell_type": "code",
      "source": [
        "df['age_by_decade'].value_counts()"
      ],
      "metadata": {
        "colab": {
          "base_uri": "https://localhost:8080/"
        },
        "id": "dq2co37gZtqI",
        "outputId": "0d9e2147-91da-4c60-d923-fd8da58b75a7"
      },
      "execution_count": 100,
      "outputs": [
        {
          "output_type": "execute_result",
          "data": {
            "text/plain": [
              "30s    4346\n",
              "40s    2618\n",
              "20s    1552\n",
              "50s     869\n",
              "60s     375\n",
              "70s     136\n",
              "18s      67\n",
              "80s      13\n",
              "90s       2\n",
              "Name: age_by_decade, dtype: int64"
            ]
          },
          "metadata": {},
          "execution_count": 100
        }
      ]
    },
    {
      "cell_type": "code",
      "source": [
        "def pirplotter(data,keys):\n",
        "    # define Seaborn color palette to use\n",
        "    palette_color = sns.color_palette('bright')\n",
        "\n",
        "    # plotting data on chart\n",
        "    pt.pie(data, labels=keys, colors=palette_color, autopct='%.0f%%')\n",
        "\n",
        "    # displaying chart\n",
        "    pt.show()"
      ],
      "metadata": {
        "id": "-x3XdGhNam6j"
      },
      "execution_count": 101,
      "outputs": []
    },
    {
      "cell_type": "code",
      "source": [
        "# Pie chart\n",
        "keys=list(df['age_by_decade'].value_counts().index)\n",
        "data=list(df['age_by_decade'].value_counts().values)\n",
        "pirplotter(data,keys)"
      ],
      "metadata": {
        "colab": {
          "base_uri": "https://localhost:8080/",
          "height": 406
        },
        "id": "FvU2asqpZ6pT",
        "outputId": "cbcf895f-7551-4008-f203-658f7451cc6c"
      },
      "execution_count": 102,
      "outputs": [
        {
          "output_type": "display_data",
          "data": {
            "text/plain": [
              "<Figure size 640x480 with 1 Axes>"
            ],
            "image/png": "[encoded data removed]"
          },
          "metadata": {}
        }
      ]
    },
    {
      "cell_type": "code",
      "source": [
        "pt.bar(keys, data, color ='maroon',\n",
        "        width = 0.4)"
      ],
      "metadata": {
        "colab": {
          "base_uri": "https://localhost:8080/",
          "height": 448
        },
        "id": "RV09iZpXa-qL",
        "outputId": "3509c51b-ea53-4308-bb80-22951100dc1c"
      },
      "execution_count": 103,
      "outputs": [
        {
          "output_type": "execute_result",
          "data": {
            "text/plain": [
              "<BarContainer object of 9 artists>"
            ]
          },
          "metadata": {},
          "execution_count": 103
        },
        {
          "output_type": "display_data",
          "data": {
            "text/plain": [
              "<Figure size 640x480 with 1 Axes>"
            ],
            "image/png": "[encoded data removed]"
          },
          "metadata": {}
        }
      ]
    },
    {
      "cell_type": "markdown",
      "source": [
        "### Outcome variable \"Exist\" balance"
      ],
      "metadata": {
        "id": "pkxJQZXbpA3L"
      }
    },
    {
      "cell_type": "markdown",
      "source": [
        "## Label Encoding"
      ],
      "metadata": {
        "id": "QTWHU4O7bOth"
      }
    },
    {
      "cell_type": "code",
      "source": [
        "glopal_val=df.groupby('Geography',as_index=False).sum('Exited')"
      ],
      "metadata": {
        "id": "xoniI5WdbR4y"
      },
      "execution_count": 104,
      "outputs": []
    },
    {
      "cell_type": "code",
      "source": [
        "import plotly.express as px\n",
        "px.scatter_geo(glopal_val, locations='Geography', size='Exited', locationmode='country names', color='Geography')"
      ],
      "metadata": {
        "colab": {
          "base_uri": "https://localhost:8080/",
          "height": 542
        },
        "id": "GQThxVh5bxmv",
        "outputId": "255f048e-db2d-4f81-f323-9dcbb325dfad"
      },
      "execution_count": 105,
      "outputs": [
        {
          "output_type": "display_data",
          "data": {
            "text/html": [
              "<html>\n",
              "<head><meta charset=\"utf-8\" /></head>\n",
              "<body>\n",
              "    <div>            <script src=\"https://cdnjs.cloudflare.com/ajax/libs/mathjax/2.7.5/MathJax.js?config=TeX-AMS-MML_SVG\"></script><script type=\"text/javascript\">if (window.MathJax && window.MathJax.Hub && window.MathJax.Hub.Config) {window.MathJax.Hub.Config({SVG: {font: \"STIX-Web\"}});}</script>                <script type=\"text/javascript\">window.PlotlyConfig = {MathJaxConfig: 'local'};</script>\n",
              "        <script src=\"https://cdn.plot.ly/plotly-2.18.2.min.js\"></script>                <div id=\"75074387-b1b2-4c38-aca5-7e307a599a5c\" class=\"plotly-graph-div\" style=\"height:525px; width:100%;\"></div>            <script type=\"text/javascript\">                                    window.PLOTLYENV=window.PLOTLYENV || {};                                    if (document.getElementById(\"75074387-b1b2-4c38-aca5-7e307a599a5c\")) {                    Plotly.newPlot(                        \"75074387-b1b2-4c38-aca5-7e307a599a5c\",                        [{\"geo\":\"geo\",\"hovertemplate\":\"Geography=%{location}<br>Exited=%{marker.size}<extra></extra>\",\"legendgroup\":\"France\",\"locationmode\":\"country names\",\"locations\":[\"France\"],\"marker\":{\"color\":\"#636efa\",\"size\":[810],\"sizemode\":\"area\",\"sizeref\":2.035,\"symbol\":\"circle\"},\"mode\":\"markers\",\"name\":\"France\",\"showlegend\":true,\"type\":\"scattergeo\"},{\"geo\":\"geo\",\"hovertemplate\":\"Geography=%{location}<br>Exited=%{marker.size}<extra></extra>\",\"legendgroup\":\"Germany\",\"locationmode\":\"country names\",\"locations\":[\"Germany\"],\"marker\":{\"color\":\"#EF553B\",\"size\":[814],\"sizemode\":\"area\",\"sizeref\":2.035,\"symbol\":\"circle\"},\"mode\":\"markers\",\"name\":\"Germany\",\"showlegend\":true,\"type\":\"scattergeo\"},{\"geo\":\"geo\",\"hovertemplate\":\"Geography=%{location}<br>Exited=%{marker.size}<extra></extra>\",\"legendgroup\":\"Spain\",\"locationmode\":\"country names\",\"locations\":[\"Spain\"],\"marker\":{\"color\":\"#00cc96\",\"size\":[413],\"sizemode\":\"area\",\"sizeref\":2.035,\"symbol\":\"circle\"},\"mode\":\"markers\",\"name\":\"Spain\",\"showlegend\":true,\"type\":\"scattergeo\"}],                        {\"template\":{\"data\":{\"histogram2dcontour\":[{\"type\":\"histogram2dcontour\",\"colorbar\":{\"outlinewidth\":0,\"ticks\":\"\"},\"colorscale\":[[0.0,\"#0d0887\"],[0.1111111111111111,\"#46039f\"],[0.2222222222222222,\"#7201a8\"],[0.3333333333333333,\"#9c179e\"],[0.4444444444444444,\"#bd3786\"],[0.5555555555555556,\"#d8576b\"],[0.6666666666666666,\"#ed7953\"],[0.7777777777777778,\"#fb9f3a\"],[0.8888888888888888,\"#fdca26\"],[1.0,\"#f0f921\"]]}],\"choropleth\":[{\"type\":\"choropleth\",\"colorbar\":{\"outlinewidth\":0,\"ticks\":\"\"}}],\"histogram2d\":[{\"type\":\"histogram2d\",\"colorbar\":{\"outlinewidth\":0,\"ticks\":\"\"},\"colorscale\":[[0.0,\"#0d0887\"],[0.1111111111111111,\"#46039f\"],[0.2222222222222222,\"#7201a8\"],[0.3333333333333333,\"#9c179e\"],[0.4444444444444444,\"#bd3786\"],[0.5555555555555556,\"#d8576b\"],[0.6666666666666666,\"#ed7953\"],[0.7777777777777778,\"#fb9f3a\"],[0.8888888888888888,\"#fdca26\"],[1.0,\"#f0f921\"]]}],\"heatmap\":[{\"type\":\"heatmap\",\"colorbar\":{\"outlinewidth\":0,\"ticks\":\"\"},\"colorscale\":[[0.0,\"#0d0887\"],[0.1111111111111111,\"#46039f\"],[0.2222222222222222,\"#7201a8\"],[0.3333333333333333,\"#9c179e\"],[0.4444444444444444,\"#bd3786\"],[0.5555555555555556,\"#d8576b\"],[0.6666666666666666,\"#ed7953\"],[0.7777777777777778,\"#fb9f3a\"],[0.8888888888888888,\"#fdca26\"],[1.0,\"#f0f921\"]]}],\"heatmapgl\":[{\"type\":\"heatmapgl\",\"colorbar\":{\"outlinewidth\":0,\"ticks\":\"\"},\"colorscale\":[[0.0,\"#0d0887\"],[0.1111111111111111,\"#46039f\"],[0.2222222222222222,\"#7201a8\"],[0.3333333333333333,\"#9c179e\"],[0.4444444444444444,\"#bd3786\"],[0.5555555555555556,\"#d8576b\"],[0.6666666666666666,\"#ed7953\"],[0.7777777777777778,\"#fb9f3a\"],[0.8888888888888888,\"#fdca26\"],[1.0,\"#f0f921\"]]}],\"contourcarpet\":[{\"type\":\"contourcarpet\",\"colorbar\":{\"outlinewidth\":0,\"ticks\":\"\"}}],\"contour\":[{\"type\":\"contour\",\"colorbar\":{\"outlinewidth\":0,\"ticks\":\"\"},\"colorscale\":[[0.0,\"#0d0887\"],[0.1111111111111111,\"#46039f\"],[0.2222222222222222,\"#7201a8\"],[0.3333333333333333,\"#9c179e\"],[0.4444444444444444,\"#bd3786\"],[0.5555555555555556,\"#d8576b\"],[0.6666666666666666,\"#ed7953\"],[0.7777777777777778,\"#fb9f3a\"],[0.8888888888888888,\"#fdca26\"],[1.0,\"#f0f921\"]]}],\"surface\":[{\"type\":\"surface\",\"colorbar\":{\"outlinewidth\":0,\"ticks\":\"\"},\"colorscale\":[[0.0,\"#0d0887\"],[0.1111111111111111,\"#46039f\"],[0.2222222222222222,\"#7201a8\"],[0.3333333333333333,\"#9c179e\"],[0.4444444444444444,\"#bd3786\"],[0.5555555555555556,\"#d8576b\"],[0.6666666666666666,\"#ed7953\"],[0.7777777777777778,\"#fb9f3a\"],[0.8888888888888888,\"#fdca26\"],[1.0,\"#f0f921\"]]}],\"mesh3d\":[{\"type\":\"mesh3d\",\"colorbar\":{\"outlinewidth\":0,\"ticks\":\"\"}}],\"scatter\":[{\"fillpattern\":{\"fillmode\":\"overlay\",\"size\":10,\"solidity\":0.2},\"type\":\"scatter\"}],\"parcoords\":[{\"type\":\"parcoords\",\"line\":{\"colorbar\":{\"outlinewidth\":0,\"ticks\":\"\"}}}],\"scatterpolargl\":[{\"type\":\"scatterpolargl\",\"marker\":{\"colorbar\":{\"outlinewidth\":0,\"ticks\":\"\"}}}],\"bar\":[{\"error_x\":{\"color\":\"#2a3f5f\"},\"error_y\":{\"color\":\"#2a3f5f\"},\"marker\":{\"line\":{\"color\":\"#E5ECF6\",\"width\":0.5},\"pattern\":{\"fillmode\":\"overlay\",\"size\":10,\"solidity\":0.2}},\"type\":\"bar\"}],\"scattergeo\":[{\"type\":\"scattergeo\",\"marker\":{\"colorbar\":{\"outlinewidth\":0,\"ticks\":\"\"}}}],\"scatterpolar\":[{\"type\":\"scatterpolar\",\"marker\":{\"colorbar\":{\"outlinewidth\":0,\"ticks\":\"\"}}}],\"histogram\":[{\"marker\":{\"pattern\":{\"fillmode\":\"overlay\",\"size\":10,\"solidity\":0.2}},\"type\":\"histogram\"}],\"scattergl\":[{\"type\":\"scattergl\",\"marker\":{\"colorbar\":{\"outlinewidth\":0,\"ticks\":\"\"}}}],\"scatter3d\":[{\"type\":\"scatter3d\",\"line\":{\"colorbar\":{\"outlinewidth\":0,\"ticks\":\"\"}},\"marker\":{\"colorbar\":{\"outlinewidth\":0,\"ticks\":\"\"}}}],\"scattermapbox\":[{\"type\":\"scattermapbox\",\"marker\":{\"colorbar\":{\"outlinewidth\":0,\"ticks\":\"\"}}}],\"scatterternary\":[{\"type\":\"scatterternary\",\"marker\":{\"colorbar\":{\"outlinewidth\":0,\"ticks\":\"\"}}}],\"scattercarpet\":[{\"type\":\"scattercarpet\",\"marker\":{\"colorbar\":{\"outlinewidth\":0,\"ticks\":\"\"}}}],\"carpet\":[{\"aaxis\":{\"endlinecolor\":\"#2a3f5f\",\"gridcolor\":\"white\",\"linecolor\":\"white\",\"minorgridcolor\":\"white\",\"startlinecolor\":\"#2a3f5f\"},\"baxis\":{\"endlinecolor\":\"#2a3f5f\",\"gridcolor\":\"white\",\"linecolor\":\"white\",\"minorgridcolor\":\"white\",\"startlinecolor\":\"#2a3f5f\"},\"type\":\"carpet\"}],\"table\":[{\"cells\":{\"fill\":{\"color\":\"#EBF0F8\"},\"line\":{\"color\":\"white\"}},\"header\":{\"fill\":{\"color\":\"#C8D4E3\"},\"line\":{\"color\":\"white\"}},\"type\":\"table\"}],\"barpolar\":[{\"marker\":{\"line\":{\"color\":\"#E5ECF6\",\"width\":0.5},\"pattern\":{\"fillmode\":\"overlay\",\"size\":10,\"solidity\":0.2}},\"type\":\"barpolar\"}],\"pie\":[{\"automargin\":true,\"type\":\"pie\"}]},\"layout\":{\"autotypenumbers\":\"strict\",\"colorway\":[\"#636efa\",\"#EF553B\",\"#00cc96\",\"#ab63fa\",\"#FFA15A\",\"#19d3f3\",\"#FF6692\",\"#B6E880\",\"#FF97FF\",\"#FECB52\"],\"font\":{\"color\":\"#2a3f5f\"},\"hovermode\":\"closest\",\"hoverlabel\":{\"align\":\"left\"},\"paper_bgcolor\":\"white\",\"plot_bgcolor\":\"#E5ECF6\",\"polar\":{\"bgcolor\":\"#E5ECF6\",\"angularaxis\":{\"gridcolor\":\"white\",\"linecolor\":\"white\",\"ticks\":\"\"},\"radialaxis\":{\"gridcolor\":\"white\",\"linecolor\":\"white\",\"ticks\":\"\"}},\"ternary\":{\"bgcolor\":\"#E5ECF6\",\"aaxis\":{\"gridcolor\":\"white\",\"linecolor\":\"white\",\"ticks\":\"\"},\"baxis\":{\"gridcolor\":\"white\",\"linecolor\":\"white\",\"ticks\":\"\"},\"caxis\":{\"gridcolor\":\"white\",\"linecolor\":\"white\",\"ticks\":\"\"}},\"coloraxis\":{\"colorbar\":{\"outlinewidth\":0,\"ticks\":\"\"}},\"colorscale\":{\"sequential\":[[0.0,\"#0d0887\"],[0.1111111111111111,\"#46039f\"],[0.2222222222222222,\"#7201a8\"],[0.3333333333333333,\"#9c179e\"],[0.4444444444444444,\"#bd3786\"],[0.5555555555555556,\"#d8576b\"],[0.6666666666666666,\"#ed7953\"],[0.7777777777777778,\"#fb9f3a\"],[0.8888888888888888,\"#fdca26\"],[1.0,\"#f0f921\"]],\"sequentialminus\":[[0.0,\"#0d0887\"],[0.1111111111111111,\"#46039f\"],[0.2222222222222222,\"#7201a8\"],[0.3333333333333333,\"#9c179e\"],[0.4444444444444444,\"#bd3786\"],[0.5555555555555556,\"#d8576b\"],[0.6666666666666666,\"#ed7953\"],[0.7777777777777778,\"#fb9f3a\"],[0.8888888888888888,\"#fdca26\"],[1.0,\"#f0f921\"]],\"diverging\":[[0,\"#8e0152\"],[0.1,\"#c51b7d\"],[0.2,\"#de77ae\"],[0.3,\"#f1b6da\"],[0.4,\"#fde0ef\"],[0.5,\"#f7f7f7\"],[0.6,\"#e6f5d0\"],[0.7,\"#b8e186\"],[0.8,\"#7fbc41\"],[0.9,\"#4d9221\"],[1,\"#276419\"]]},\"xaxis\":{\"gridcolor\":\"white\",\"linecolor\":\"white\",\"ticks\":\"\",\"title\":{\"standoff\":15},\"zerolinecolor\":\"white\",\"automargin\":true,\"zerolinewidth\":2},\"yaxis\":{\"gridcolor\":\"white\",\"linecolor\":\"white\",\"ticks\":\"\",\"title\":{\"standoff\":15},\"zerolinecolor\":\"white\",\"automargin\":true,\"zerolinewidth\":2},\"scene\":{\"xaxis\":{\"backgroundcolor\":\"#E5ECF6\",\"gridcolor\":\"white\",\"linecolor\":\"white\",\"showbackground\":true,\"ticks\":\"\",\"zerolinecolor\":\"white\",\"gridwidth\":2},\"yaxis\":{\"backgroundcolor\":\"#E5ECF6\",\"gridcolor\":\"white\",\"linecolor\":\"white\",\"showbackground\":true,\"ticks\":\"\",\"zerolinecolor\":\"white\",\"gridwidth\":2},\"zaxis\":{\"backgroundcolor\":\"#E5ECF6\",\"gridcolor\":\"white\",\"linecolor\":\"white\",\"showbackground\":true,\"ticks\":\"\",\"zerolinecolor\":\"white\",\"gridwidth\":2}},\"shapedefaults\":{\"line\":{\"color\":\"#2a3f5f\"}},\"annotationdefaults\":{\"arrowcolor\":\"#2a3f5f\",\"arrowhead\":0,\"arrowwidth\":1},\"geo\":{\"bgcolor\":\"white\",\"landcolor\":\"#E5ECF6\",\"subunitcolor\":\"white\",\"showland\":true,\"showlakes\":true,\"lakecolor\":\"white\"},\"title\":{\"x\":0.05},\"mapbox\":{\"style\":\"light\"}}},\"geo\":{\"domain\":{\"x\":[0.0,1.0],\"y\":[0.0,1.0]},\"center\":{}},\"legend\":{\"title\":{\"text\":\"Geography\"},\"tracegroupgap\":0,\"itemsizing\":\"constant\"},\"margin\":{\"t\":60}},                        {\"responsive\": true}                    ).then(function(){\n",
              "                            \n",
              "var gd = document.getElementById('75074387-b1b2-4c38-aca5-7e307a599a5c');\n",
              "var x = new MutationObserver(function (mutations, observer) {{\n",
              "        var display = window.getComputedStyle(gd).display;\n",
              "        if (!display || display === 'none') {{\n",
              "            console.log([gd, 'removed!']);\n",
              "            Plotly.purge(gd);\n",
              "            observer.disconnect();\n",
              "        }}\n",
              "}});\n",
              "\n",
              "// Listen for the removal of the full notebook cells\n",
              "var notebookContainer = gd.closest('#notebook-container');\n",
              "if (notebookContainer) {{\n",
              "    x.observe(notebookContainer, {childList: true});\n",
              "}}\n",
              "\n",
              "// Listen for the clearing of the current output cell\n",
              "var outputEl = gd.closest('.output');\n",
              "if (outputEl) {{\n",
              "    x.observe(outputEl, {childList: true});\n",
              "}}\n",
              "\n",
              "                        })                };                            </script>        </div>\n",
              "</body>\n",
              "</html>"
            ]
          },
          "metadata": {}
        }
      ]
    },
    {
      "cell_type": "code",
      "source": [
        "glopal_val"
      ],
      "metadata": {
        "colab": {
          "base_uri": "https://localhost:8080/",
          "height": 143
        },
        "id": "Pl7y4vbRcZ1C",
        "outputId": "4ca4a76f-7692-4cc7-efa0-fcac1ab20317"
      },
      "execution_count": 106,
      "outputs": [
        {
          "output_type": "execute_result",
          "data": {
            "text/plain": [
              "  Geography  CreditScore     Age  Tenure       Balance  NumOfProducts  \\\n",
              "0    France      3257437  193098   25093  3.113325e+08           7676   \n",
              "1   Germany      1634497   99787   12570  3.004029e+08           3813   \n",
              "2     Spain      1613354   96333   12465  1.531236e+08           3813   \n",
              "\n",
              "   HasCrCard  IsActiveMember  EstimatedSalary  Exited  portioninage  \n",
              "0       3543            2591     5.008945e+08     810    696.096300  \n",
              "1       1791            1248     2.536936e+08     814    336.966803  \n",
              "2       1721            1312     2.463143e+08     413    346.300408  "
            ],
            "text/html": [
              "\n",
              "\n",
              "  <div id=\"df-f0a95a95-12bd-4438-b708-f4f2070f28af\">\n",
              "    <div class=\"colab-df-container\">\n",
              "      <div>\n",
              "<style scoped>\n",
              "    .dataframe tbody tr th:only-of-type {\n",
              "        vertical-align: middle;\n",
              "    }\n",
              "\n",
              "    .dataframe tbody tr th {\n",
              "        vertical-align: top;\n",
              "    }\n",
              "\n",
              "    .dataframe thead th {\n",
              "        text-align: right;\n",
              "    }\n",
              "</style>\n",
              "<table border=\"1\" class=\"dataframe\">\n",
              "  <thead>\n",
              "    <tr style=\"text-align: right;\">\n",
              "      <th></th>\n",
              "      <th>Geography</th>\n",
              "      <th>CreditScore</th>\n",
              "      <th>Age</th>\n",
              "      <th>Tenure</th>\n",
              "      <th>Balance</th>\n",
              "      <th>NumOfProducts</th>\n",
              "      <th>HasCrCard</th>\n",
              "      <th>IsActiveMember</th>\n",
              "      <th>EstimatedSalary</th>\n",
              "      <th>Exited</th>\n",
              "      <th>portioninage</th>\n",
              "    </tr>\n",
              "  </thead>\n",
              "  <tbody>\n",
              "    <tr>\n",
              "      <th>0</th>\n",
              "      <td>France</td>\n",
              "      <td>3257437</td>\n",
              "      <td>193098</td>\n",
              "      <td>25093</td>\n",
              "      <td>3.113325e+08</td>\n",
              "      <td>7676</td>\n",
              "      <td>3543</td>\n",
              "      <td>2591</td>\n",
              "      <td>5.008945e+08</td>\n",
              "      <td>810</td>\n",
              "      <td>696.096300</td>\n",
              "    </tr>\n",
              "    <tr>\n",
              "      <th>1</th>\n",
              "      <td>Germany</td>\n",
              "      <td>1634497</td>\n",
              "      <td>99787</td>\n",
              "      <td>12570</td>\n",
              "      <td>3.004029e+08</td>\n",
              "      <td>3813</td>\n",
              "      <td>1791</td>\n",
              "      <td>1248</td>\n",
              "      <td>2.536936e+08</td>\n",
              "      <td>814</td>\n",
              "      <td>336.966803</td>\n",
              "    </tr>\n",
              "    <tr>\n",
              "      <th>2</th>\n",
              "      <td>Spain</td>\n",
              "      <td>1613354</td>\n",
              "      <td>96333</td>\n",
              "      <td>12465</td>\n",
              "      <td>1.531236e+08</td>\n",
              "      <td>3813</td>\n",
              "      <td>1721</td>\n",
              "      <td>1312</td>\n",
              "      <td>2.463143e+08</td>\n",
              "      <td>413</td>\n",
              "      <td>346.300408</td>\n",
              "    </tr>\n",
              "  </tbody>\n",
              "</table>\n",
              "</div>\n",
              "      <button class=\"colab-df-convert\" onclick=\"convertToInteractive('df-f0a95a95-12bd-4438-b708-f4f2070f28af')\"\n",
              "              title=\"Convert this dataframe to an interactive table.\"\n",
              "              style=\"display:none;\">\n",
              "\n",
              "  <svg xmlns=\"http://www.w3.org/2000/svg\" height=\"24px\"viewBox=\"0 0 24 24\"\n",
              "       width=\"24px\">\n",
              "    <path d=\"M0 0h24v24H0V0z\" fill=\"none\"/>\n",
              "    <path d=\"M18.56 5.44l.94 2.06.94-2.06 2.06-.94-2.06-.94-.94-2.06-.94 2.06-2.06.94zm-11 1L8.5 8.5l.94-2.06 2.06-.94-2.06-.94L8.5 2.5l-.94 2.06-2.06.94zm10 10l.94 2.06.94-2.06 2.06-.94-2.06-.94-.94-2.06-.94 2.06-2.06.94z\"/><path d=\"M17.41 7.96l-1.37-1.37c-.4-.4-.92-.59-1.43-.59-.52 0-1.04.2-1.43.59L10.3 9.45l-7.72 7.72c-.78.78-.78 2.05 0 2.83L4 21.41c.39.39.9.59 1.41.59.51 0 1.02-.2 1.41-.59l7.78-7.78 2.81-2.81c.8-.78.8-2.07 0-2.86zM5.41 20L4 18.59l7.72-7.72 1.47 1.35L5.41 20z\"/>\n",
              "  </svg>\n",
              "      </button>\n",
              "\n",
              "\n",
              "\n",
              "    <div id=\"df-9c286b7c-d821-4428-9a7f-d1fb1ff4bc34\">\n",
              "      <button class=\"colab-df-quickchart\" onclick=\"quickchart('df-9c286b7c-d821-4428-9a7f-d1fb1ff4bc34')\"\n",
              "              title=\"Suggest charts.\"\n",
              "              style=\"display:none;\">\n",
              "\n",
              "<svg xmlns=\"http://www.w3.org/2000/svg\" height=\"24px\"viewBox=\"0 0 24 24\"\n",
              "     width=\"24px\">\n",
              "    <g>\n",
              "        <path d=\"M19 3H5c-1.1 0-2 .9-2 2v14c0 1.1.9 2 2 2h14c1.1 0 2-.9 2-2V5c0-1.1-.9-2-2-2zM9 17H7v-7h2v7zm4 0h-2V7h2v10zm4 0h-2v-4h2v4z\"/>\n",
              "    </g>\n",
              "</svg>\n",
              "      </button>\n",
              "    </div>\n",
              "\n",
              "<style>\n",
              "  .colab-df-quickchart {\n",
              "    background-color: #E8F0FE;\n",
              "    border: none;\n",
              "    border-radius: 50%;\n",
              "    cursor: pointer;\n",
              "    display: none;\n",
              "    fill: #1967D2;\n",
              "    height: 32px;\n",
              "    padding: 0 0 0 0;\n",
              "    width: 32px;\n",
              "  }\n",
              "\n",
              "  .colab-df-quickchart:hover {\n",
              "    background-color: #E2EBFA;\n",
              "    box-shadow: 0px 1px 2px rgba(60, 64, 67, 0.3), 0px 1px 3px 1px rgba(60, 64, 67, 0.15);\n",
              "    fill: #174EA6;\n",
              "  }\n",
              "\n",
              "  [theme=dark] .colab-df-quickchart {\n",
              "    background-color: #3B4455;\n",
              "    fill: #D2E3FC;\n",
              "  }\n",
              "\n",
              "  [theme=dark] .colab-df-quickchart:hover {\n",
              "    background-color: #434B5C;\n",
              "    box-shadow: 0px 1px 3px 1px rgba(0, 0, 0, 0.15);\n",
              "    filter: drop-shadow(0px 1px 2px rgba(0, 0, 0, 0.3));\n",
              "    fill: #FFFFFF;\n",
              "  }\n",
              "</style>\n",
              "\n",
              "    <script>\n",
              "      async function quickchart(key) {\n",
              "        const containerElement = document.querySelector('#' + key);\n",
              "        const charts = await google.colab.kernel.invokeFunction(\n",
              "            'suggestCharts', [key], {});\n",
              "      }\n",
              "    </script>\n",
              "\n",
              "      <script>\n",
              "\n",
              "function displayQuickchartButton(domScope) {\n",
              "  let quickchartButtonEl =\n",
              "    domScope.querySelector('#df-9c286b7c-d821-4428-9a7f-d1fb1ff4bc34 button.colab-df-quickchart');\n",
              "  quickchartButtonEl.style.display =\n",
              "    google.colab.kernel.accessAllowed ? 'block' : 'none';\n",
              "}\n",
              "\n",
              "        displayQuickchartButton(document);\n",
              "      </script>\n",
              "      <style>\n",
              "    .colab-df-container {\n",
              "      display:flex;\n",
              "      flex-wrap:wrap;\n",
              "      gap: 12px;\n",
              "    }\n",
              "\n",
              "    .colab-df-convert {\n",
              "      background-color: #E8F0FE;\n",
              "      border: none;\n",
              "      border-radius: 50%;\n",
              "      cursor: pointer;\n",
              "      display: none;\n",
              "      fill: #1967D2;\n",
              "      height: 32px;\n",
              "      padding: 0 0 0 0;\n",
              "      width: 32px;\n",
              "    }\n",
              "\n",
              "    .colab-df-convert:hover {\n",
              "      background-color: #E2EBFA;\n",
              "      box-shadow: 0px 1px 2px rgba(60, 64, 67, 0.3), 0px 1px 3px 1px rgba(60, 64, 67, 0.15);\n",
              "      fill: #174EA6;\n",
              "    }\n",
              "\n",
              "    [theme=dark] .colab-df-convert {\n",
              "      background-color: #3B4455;\n",
              "      fill: #D2E3FC;\n",
              "    }\n",
              "\n",
              "    [theme=dark] .colab-df-convert:hover {\n",
              "      background-color: #434B5C;\n",
              "      box-shadow: 0px 1px 3px 1px rgba(0, 0, 0, 0.15);\n",
              "      filter: drop-shadow(0px 1px 2px rgba(0, 0, 0, 0.3));\n",
              "      fill: #FFFFFF;\n",
              "    }\n",
              "  </style>\n",
              "\n",
              "      <script>\n",
              "        const buttonEl =\n",
              "          document.querySelector('#df-f0a95a95-12bd-4438-b708-f4f2070f28af button.colab-df-convert');\n",
              "        buttonEl.style.display =\n",
              "          google.colab.kernel.accessAllowed ? 'block' : 'none';\n",
              "\n",
              "        async function convertToInteractive(key) {\n",
              "          const element = document.querySelector('#df-f0a95a95-12bd-4438-b708-f4f2070f28af');\n",
              "          const dataTable =\n",
              "            await google.colab.kernel.invokeFunction('convertToInteractive',\n",
              "                                                     [key], {});\n",
              "          if (!dataTable) return;\n",
              "\n",
              "          const docLinkHtml = 'Like what you see? Visit the ' +\n",
              "            '<a target=\"_blank\" href=https://colab.research.google.com/notebooks/data_table.ipynb>data table notebook</a>'\n",
              "            + ' to learn more about interactive tables.';\n",
              "          element.innerHTML = '';\n",
              "          dataTable['output_type'] = 'display_data';\n",
              "          await google.colab.output.renderOutput(dataTable, element);\n",
              "          const docLink = document.createElement('div');\n",
              "          docLink.innerHTML = docLinkHtml;\n",
              "          element.appendChild(docLink);\n",
              "        }\n",
              "      </script>\n",
              "    </div>\n",
              "  </div>\n"
            ]
          },
          "metadata": {},
          "execution_count": 106
        }
      ]
    },
    {
      "cell_type": "code",
      "source": [
        "sns.barplot(x = 'Geography',\n",
        "            y = 'Exited',\n",
        "            data = glopal_val)"
      ],
      "metadata": {
        "colab": {
          "base_uri": "https://localhost:8080/",
          "height": 467
        },
        "id": "ELZcxNFlcuoA",
        "outputId": "631bc8ed-6e24-44af-a156-7a9d93aa52ad"
      },
      "execution_count": 107,
      "outputs": [
        {
          "output_type": "execute_result",
          "data": {
            "text/plain": [
              "<Axes: xlabel='Geography', ylabel='Exited'>"
            ]
          },
          "metadata": {},
          "execution_count": 107
        },
        {
          "output_type": "display_data",
          "data": {
            "text/plain": [
              "<Figure size 640x480 with 1 Axes>"
            ],
            "image/png": "[encoded data removed]"
          },
          "metadata": {}
        }
      ]
    },
    {
      "cell_type": "markdown",
      "source": [
        "Why does spain has low churns compare with the other?\n",
        "Perform hypothisis testing"
      ],
      "metadata": {
        "id": "_iESeispc3za"
      }
    },
    {
      "cell_type": "code",
      "source": [
        "df_dc = pd.get_dummies(df, columns=['Geography'],drop_first=True) #drop first will create 2 dummies instead of 3 for each catogry"
      ],
      "metadata": {
        "id": "S7M88ZSPfGH3"
      },
      "execution_count": 108,
      "outputs": []
    },
    {
      "cell_type": "code",
      "source": [
        "df_dc.head()"
      ],
      "metadata": {
        "colab": {
          "base_uri": "https://localhost:8080/",
          "height": 270
        },
        "id": "QNv6T0ClfLM-",
        "outputId": "85553d6e-4a26-4a60-86ad-6935378a1057"
      },
      "execution_count": 109,
      "outputs": [
        {
          "output_type": "execute_result",
          "data": {
            "text/plain": [
              "   CreditScore  Age  Tenure    Balance  NumOfProducts  HasCrCard  \\\n",
              "0          619   42       2       0.00              1          1   \n",
              "1          608   41       1   83807.86              1          0   \n",
              "2          502   42       8  159660.80              3          1   \n",
              "3          699   39       1       0.00              2          0   \n",
              "4          850   43       2  125510.82              1          1   \n",
              "\n",
              "   IsActiveMember  EstimatedSalary  Exited  portioninage age_by_decade  \\\n",
              "0               1        101348.88       1      0.047619           40s   \n",
              "1               1        112542.58       0      0.024390           40s   \n",
              "2               0        113931.57       1      0.190476           40s   \n",
              "3               0         93826.63       0      0.025641           30s   \n",
              "4               1         79084.10       0      0.046512           40s   \n",
              "\n",
              "   Geography_Germany  Geography_Spain  \n",
              "0                  0                0  \n",
              "1                  0                1  \n",
              "2                  0                0  \n",
              "3                  0                0  \n",
              "4                  0                1  "
            ],
            "text/html": [
              "\n",
              "\n",
              "  <div id=\"df-35518924-f7f4-49ee-bcdd-6a06207ad513\">\n",
              "    <div class=\"colab-df-container\">\n",
              "      <div>\n",
              "<style scoped>\n",
              "    .dataframe tbody tr th:only-of-type {\n",
              "        vertical-align: middle;\n",
              "    }\n",
              "\n",
              "    .dataframe tbody tr th {\n",
              "        vertical-align: top;\n",
              "    }\n",
              "\n",
              "    .dataframe thead th {\n",
              "        text-align: right;\n",
              "    }\n",
              "</style>\n",
              "<table border=\"1\" class=\"dataframe\">\n",
              "  <thead>\n",
              "    <tr style=\"text-align: right;\">\n",
              "      <th></th>\n",
              "      <th>CreditScore</th>\n",
              "      <th>Age</th>\n",
              "      <th>Tenure</th>\n",
              "      <th>Balance</th>\n",
              "      <th>NumOfProducts</th>\n",
              "      <th>HasCrCard</th>\n",
              "      <th>IsActiveMember</th>\n",
              "      <th>EstimatedSalary</th>\n",
              "      <th>Exited</th>\n",
              "      <th>portioninage</th>\n",
              "      <th>age_by_decade</th>\n",
              "      <th>Geography_Germany</th>\n",
              "      <th>Geography_Spain</th>\n",
              "    </tr>\n",
              "  </thead>\n",
              "  <tbody>\n",
              "    <tr>\n",
              "      <th>0</th>\n",
              "      <td>619</td>\n",
              "      <td>42</td>\n",
              "      <td>2</td>\n",
              "      <td>0.00</td>\n",
              "      <td>1</td>\n",
              "      <td>1</td>\n",
              "      <td>1</td>\n",
              "      <td>101348.88</td>\n",
              "      <td>1</td>\n",
              "      <td>0.047619</td>\n",
              "      <td>40s</td>\n",
              "      <td>0</td>\n",
              "      <td>0</td>\n",
              "    </tr>\n",
              "    <tr>\n",
              "      <th>1</th>\n",
              "      <td>608</td>\n",
              "      <td>41</td>\n",
              "      <td>1</td>\n",
              "      <td>83807.86</td>\n",
              "      <td>1</td>\n",
              "      <td>0</td>\n",
              "      <td>1</td>\n",
              "      <td>112542.58</td>\n",
              "      <td>0</td>\n",
              "      <td>0.024390</td>\n",
              "      <td>40s</td>\n",
              "      <td>0</td>\n",
              "      <td>1</td>\n",
              "    </tr>\n",
              "    <tr>\n",
              "      <th>2</th>\n",
              "      <td>502</td>\n",
              "      <td>42</td>\n",
              "      <td>8</td>\n",
              "      <td>159660.80</td>\n",
              "      <td>3</td>\n",
              "      <td>1</td>\n",
              "      <td>0</td>\n",
              "      <td>113931.57</td>\n",
              "      <td>1</td>\n",
              "      <td>0.190476</td>\n",
              "      <td>40s</td>\n",
              "      <td>0</td>\n",
              "      <td>0</td>\n",
              "    </tr>\n",
              "    <tr>\n",
              "      <th>3</th>\n",
              "      <td>699</td>\n",
              "      <td>39</td>\n",
              "      <td>1</td>\n",
              "      <td>0.00</td>\n",
              "      <td>2</td>\n",
              "      <td>0</td>\n",
              "      <td>0</td>\n",
              "      <td>93826.63</td>\n",
              "      <td>0</td>\n",
              "      <td>0.025641</td>\n",
              "      <td>30s</td>\n",
              "      <td>0</td>\n",
              "      <td>0</td>\n",
              "    </tr>\n",
              "    <tr>\n",
              "      <th>4</th>\n",
              "      <td>850</td>\n",
              "      <td>43</td>\n",
              "      <td>2</td>\n",
              "      <td>125510.82</td>\n",
              "      <td>1</td>\n",
              "      <td>1</td>\n",
              "      <td>1</td>\n",
              "      <td>79084.10</td>\n",
              "      <td>0</td>\n",
              "      <td>0.046512</td>\n",
              "      <td>40s</td>\n",
              "      <td>0</td>\n",
              "      <td>1</td>\n",
              "    </tr>\n",
              "  </tbody>\n",
              "</table>\n",
              "</div>\n",
              "      <button class=\"colab-df-convert\" onclick=\"convertToInteractive('df-35518924-f7f4-49ee-bcdd-6a06207ad513')\"\n",
              "              title=\"Convert this dataframe to an interactive table.\"\n",
              "              style=\"display:none;\">\n",
              "\n",
              "  <svg xmlns=\"http://www.w3.org/2000/svg\" height=\"24px\"viewBox=\"0 0 24 24\"\n",
              "       width=\"24px\">\n",
              "    <path d=\"M0 0h24v24H0V0z\" fill=\"none\"/>\n",
              "    <path d=\"M18.56 5.44l.94 2.06.94-2.06 2.06-.94-2.06-.94-.94-2.06-.94 2.06-2.06.94zm-11 1L8.5 8.5l.94-2.06 2.06-.94-2.06-.94L8.5 2.5l-.94 2.06-2.06.94zm10 10l.94 2.06.94-2.06 2.06-.94-2.06-.94-.94-2.06-.94 2.06-2.06.94z\"/><path d=\"M17.41 7.96l-1.37-1.37c-.4-.4-.92-.59-1.43-.59-.52 0-1.04.2-1.43.59L10.3 9.45l-7.72 7.72c-.78.78-.78 2.05 0 2.83L4 21.41c.39.39.9.59 1.41.59.51 0 1.02-.2 1.41-.59l7.78-7.78 2.81-2.81c.8-.78.8-2.07 0-2.86zM5.41 20L4 18.59l7.72-7.72 1.47 1.35L5.41 20z\"/>\n",
              "  </svg>\n",
              "      </button>\n",
              "\n",
              "\n",
              "\n",
              "    <div id=\"df-808cfb82-839b-42ec-a1c6-6e787a43dc0e\">\n",
              "      <button class=\"colab-df-quickchart\" onclick=\"quickchart('df-808cfb82-839b-42ec-a1c6-6e787a43dc0e')\"\n",
              "              title=\"Suggest charts.\"\n",
              "              style=\"display:none;\">\n",
              "\n",
              "<svg xmlns=\"http://www.w3.org/2000/svg\" height=\"24px\"viewBox=\"0 0 24 24\"\n",
              "     width=\"24px\">\n",
              "    <g>\n",
              "        <path d=\"M19 3H5c-1.1 0-2 .9-2 2v14c0 1.1.9 2 2 2h14c1.1 0 2-.9 2-2V5c0-1.1-.9-2-2-2zM9 17H7v-7h2v7zm4 0h-2V7h2v10zm4 0h-2v-4h2v4z\"/>\n",
              "    </g>\n",
              "</svg>\n",
              "      </button>\n",
              "    </div>\n",
              "\n",
              "<style>\n",
              "  .colab-df-quickchart {\n",
              "    background-color: #E8F0FE;\n",
              "    border: none;\n",
              "    border-radius: 50%;\n",
              "    cursor: pointer;\n",
              "    display: none;\n",
              "    fill: #1967D2;\n",
              "    height: 32px;\n",
              "    padding: 0 0 0 0;\n",
              "    width: 32px;\n",
              "  }\n",
              "\n",
              "  .colab-df-quickchart:hover {\n",
              "    background-color: #E2EBFA;\n",
              "    box-shadow: 0px 1px 2px rgba(60, 64, 67, 0.3), 0px 1px 3px 1px rgba(60, 64, 67, 0.15);\n",
              "    fill: #174EA6;\n",
              "  }\n",
              "\n",
              "  [theme=dark] .colab-df-quickchart {\n",
              "    background-color: #3B4455;\n",
              "    fill: #D2E3FC;\n",
              "  }\n",
              "\n",
              "  [theme=dark] .colab-df-quickchart:hover {\n",
              "    background-color: #434B5C;\n",
              "    box-shadow: 0px 1px 3px 1px rgba(0, 0, 0, 0.15);\n",
              "    filter: drop-shadow(0px 1px 2px rgba(0, 0, 0, 0.3));\n",
              "    fill: #FFFFFF;\n",
              "  }\n",
              "</style>\n",
              "\n",
              "    <script>\n",
              "      async function quickchart(key) {\n",
              "        const containerElement = document.querySelector('#' + key);\n",
              "        const charts = await google.colab.kernel.invokeFunction(\n",
              "            'suggestCharts', [key], {});\n",
              "      }\n",
              "    </script>\n",
              "\n",
              "      <script>\n",
              "\n",
              "function displayQuickchartButton(domScope) {\n",
              "  let quickchartButtonEl =\n",
              "    domScope.querySelector('#df-808cfb82-839b-42ec-a1c6-6e787a43dc0e button.colab-df-quickchart');\n",
              "  quickchartButtonEl.style.display =\n",
              "    google.colab.kernel.accessAllowed ? 'block' : 'none';\n",
              "}\n",
              "\n",
              "        displayQuickchartButton(document);\n",
              "      </script>\n",
              "      <style>\n",
              "    .colab-df-container {\n",
              "      display:flex;\n",
              "      flex-wrap:wrap;\n",
              "      gap: 12px;\n",
              "    }\n",
              "\n",
              "    .colab-df-convert {\n",
              "      background-color: #E8F0FE;\n",
              "      border: none;\n",
              "      border-radius: 50%;\n",
              "      cursor: pointer;\n",
              "      display: none;\n",
              "      fill: #1967D2;\n",
              "      height: 32px;\n",
              "      padding: 0 0 0 0;\n",
              "      width: 32px;\n",
              "    }\n",
              "\n",
              "    .colab-df-convert:hover {\n",
              "      background-color: #E2EBFA;\n",
              "      box-shadow: 0px 1px 2px rgba(60, 64, 67, 0.3), 0px 1px 3px 1px rgba(60, 64, 67, 0.15);\n",
              "      fill: #174EA6;\n",
              "    }\n",
              "\n",
              "    [theme=dark] .colab-df-convert {\n",
              "      background-color: #3B4455;\n",
              "      fill: #D2E3FC;\n",
              "    }\n",
              "\n",
              "    [theme=dark] .colab-df-convert:hover {\n",
              "      background-color: #434B5C;\n",
              "      box-shadow: 0px 1px 3px 1px rgba(0, 0, 0, 0.15);\n",
              "      filter: drop-shadow(0px 1px 2px rgba(0, 0, 0, 0.3));\n",
              "      fill: #FFFFFF;\n",
              "    }\n",
              "  </style>\n",
              "\n",
              "      <script>\n",
              "        const buttonEl =\n",
              "          document.querySelector('#df-35518924-f7f4-49ee-bcdd-6a06207ad513 button.colab-df-convert');\n",
              "        buttonEl.style.display =\n",
              "          google.colab.kernel.accessAllowed ? 'block' : 'none';\n",
              "\n",
              "        async function convertToInteractive(key) {\n",
              "          const element = document.querySelector('#df-35518924-f7f4-49ee-bcdd-6a06207ad513');\n",
              "          const dataTable =\n",
              "            await google.colab.kernel.invokeFunction('convertToInteractive',\n",
              "                                                     [key], {});\n",
              "          if (!dataTable) return;\n",
              "\n",
              "          const docLinkHtml = 'Like what you see? Visit the ' +\n",
              "            '<a target=\"_blank\" href=https://colab.research.google.com/notebooks/data_table.ipynb>data table notebook</a>'\n",
              "            + ' to learn more about interactive tables.';\n",
              "          element.innerHTML = '';\n",
              "          dataTable['output_type'] = 'display_data';\n",
              "          await google.colab.output.renderOutput(dataTable, element);\n",
              "          const docLink = document.createElement('div');\n",
              "          docLink.innerHTML = docLinkHtml;\n",
              "          element.appendChild(docLink);\n",
              "        }\n",
              "      </script>\n",
              "    </div>\n",
              "  </div>\n"
            ]
          },
          "metadata": {},
          "execution_count": 109
        }
      ]
    },
    {
      "cell_type": "code",
      "source": [
        "from sklearn import preprocessing\n",
        "label_encoder = preprocessing.LabelEncoder()\n",
        "df_dc['age_by_decade']= label_encoder.fit_transform(df_dc['age_by_decade'])"
      ],
      "metadata": {
        "id": "5VWjqMZQnq95"
      },
      "execution_count": 110,
      "outputs": []
    },
    {
      "cell_type": "code",
      "source": [
        "df_dc.head()"
      ],
      "metadata": {
        "colab": {
          "base_uri": "https://localhost:8080/",
          "height": 270
        },
        "id": "R0LSnsbroHNQ",
        "outputId": "891598e5-98d0-40a5-e0b0-435e2a601b10"
      },
      "execution_count": 112,
      "outputs": [
        {
          "output_type": "execute_result",
          "data": {
            "text/plain": [
              "   CreditScore  Age  Tenure    Balance  NumOfProducts  HasCrCard  \\\n",
              "0          619   42       2       0.00              1          1   \n",
              "1          608   41       1   83807.86              1          0   \n",
              "2          502   42       8  159660.80              3          1   \n",
              "3          699   39       1       0.00              2          0   \n",
              "4          850   43       2  125510.82              1          1   \n",
              "\n",
              "   IsActiveMember  EstimatedSalary  Exited  portioninage  age_by_decade  \\\n",
              "0               1        101348.88       1      0.047619              3   \n",
              "1               1        112542.58       0      0.024390              3   \n",
              "2               0        113931.57       1      0.190476              3   \n",
              "3               0         93826.63       0      0.025641              2   \n",
              "4               1         79084.10       0      0.046512              3   \n",
              "\n",
              "   Geography_Germany  Geography_Spain  \n",
              "0                  0                0  \n",
              "1                  0                1  \n",
              "2                  0                0  \n",
              "3                  0                0  \n",
              "4                  0                1  "
            ],
            "text/html": [
              "\n",
              "\n",
              "  <div id=\"df-4307e378-df74-4f34-aab1-efb4ecf3ceae\">\n",
              "    <div class=\"colab-df-container\">\n",
              "      <div>\n",
              "<style scoped>\n",
              "    .dataframe tbody tr th:only-of-type {\n",
              "        vertical-align: middle;\n",
              "    }\n",
              "\n",
              "    .dataframe tbody tr th {\n",
              "        vertical-align: top;\n",
              "    }\n",
              "\n",
              "    .dataframe thead th {\n",
              "        text-align: right;\n",
              "    }\n",
              "</style>\n",
              "<table border=\"1\" class=\"dataframe\">\n",
              "  <thead>\n",
              "    <tr style=\"text-align: right;\">\n",
              "      <th></th>\n",
              "      <th>CreditScore</th>\n",
              "      <th>Age</th>\n",
              "      <th>Tenure</th>\n",
              "      <th>Balance</th>\n",
              "      <th>NumOfProducts</th>\n",
              "      <th>HasCrCard</th>\n",
              "      <th>IsActiveMember</th>\n",
              "      <th>EstimatedSalary</th>\n",
              "      <th>Exited</th>\n",
              "      <th>portioninage</th>\n",
              "      <th>age_by_decade</th>\n",
              "      <th>Geography_Germany</th>\n",
              "      <th>Geography_Spain</th>\n",
              "    </tr>\n",
              "  </thead>\n",
              "  <tbody>\n",
              "    <tr>\n",
              "      <th>0</th>\n",
              "      <td>619</td>\n",
              "      <td>42</td>\n",
              "      <td>2</td>\n",
              "      <td>0.00</td>\n",
              "      <td>1</td>\n",
              "      <td>1</td>\n",
              "      <td>1</td>\n",
              "      <td>101348.88</td>\n",
              "      <td>1</td>\n",
              "      <td>0.047619</td>\n",
              "      <td>3</td>\n",
              "      <td>0</td>\n",
              "      <td>0</td>\n",
              "    </tr>\n",
              "    <tr>\n",
              "      <th>1</th>\n",
              "      <td>608</td>\n",
              "      <td>41</td>\n",
              "      <td>1</td>\n",
              "      <td>83807.86</td>\n",
              "      <td>1</td>\n",
              "      <td>0</td>\n",
              "      <td>1</td>\n",
              "      <td>112542.58</td>\n",
              "      <td>0</td>\n",
              "      <td>0.024390</td>\n",
              "      <td>3</td>\n",
              "      <td>0</td>\n",
              "      <td>1</td>\n",
              "    </tr>\n",
              "    <tr>\n",
              "      <th>2</th>\n",
              "      <td>502</td>\n",
              "      <td>42</td>\n",
              "      <td>8</td>\n",
              "      <td>159660.80</td>\n",
              "      <td>3</td>\n",
              "      <td>1</td>\n",
              "      <td>0</td>\n",
              "      <td>113931.57</td>\n",
              "      <td>1</td>\n",
              "      <td>0.190476</td>\n",
              "      <td>3</td>\n",
              "      <td>0</td>\n",
              "      <td>0</td>\n",
              "    </tr>\n",
              "    <tr>\n",
              "      <th>3</th>\n",
              "      <td>699</td>\n",
              "      <td>39</td>\n",
              "      <td>1</td>\n",
              "      <td>0.00</td>\n",
              "      <td>2</td>\n",
              "      <td>0</td>\n",
              "      <td>0</td>\n",
              "      <td>93826.63</td>\n",
              "      <td>0</td>\n",
              "      <td>0.025641</td>\n",
              "      <td>2</td>\n",
              "      <td>0</td>\n",
              "      <td>0</td>\n",
              "    </tr>\n",
              "    <tr>\n",
              "      <th>4</th>\n",
              "      <td>850</td>\n",
              "      <td>43</td>\n",
              "      <td>2</td>\n",
              "      <td>125510.82</td>\n",
              "      <td>1</td>\n",
              "      <td>1</td>\n",
              "      <td>1</td>\n",
              "      <td>79084.10</td>\n",
              "      <td>0</td>\n",
              "      <td>0.046512</td>\n",
              "      <td>3</td>\n",
              "      <td>0</td>\n",
              "      <td>1</td>\n",
              "    </tr>\n",
              "  </tbody>\n",
              "</table>\n",
              "</div>\n",
              "      <button class=\"colab-df-convert\" onclick=\"convertToInteractive('df-4307e378-df74-4f34-aab1-efb4ecf3ceae')\"\n",
              "              title=\"Convert this dataframe to an interactive table.\"\n",
              "              style=\"display:none;\">\n",
              "\n",
              "  <svg xmlns=\"http://www.w3.org/2000/svg\" height=\"24px\"viewBox=\"0 0 24 24\"\n",
              "       width=\"24px\">\n",
              "    <path d=\"M0 0h24v24H0V0z\" fill=\"none\"/>\n",
              "    <path d=\"M18.56 5.44l.94 2.06.94-2.06 2.06-.94-2.06-.94-.94-2.06-.94 2.06-2.06.94zm-11 1L8.5 8.5l.94-2.06 2.06-.94-2.06-.94L8.5 2.5l-.94 2.06-2.06.94zm10 10l.94 2.06.94-2.06 2.06-.94-2.06-.94-.94-2.06-.94 2.06-2.06.94z\"/><path d=\"M17.41 7.96l-1.37-1.37c-.4-.4-.92-.59-1.43-.59-.52 0-1.04.2-1.43.59L10.3 9.45l-7.72 7.72c-.78.78-.78 2.05 0 2.83L4 21.41c.39.39.9.59 1.41.59.51 0 1.02-.2 1.41-.59l7.78-7.78 2.81-2.81c.8-.78.8-2.07 0-2.86zM5.41 20L4 18.59l7.72-7.72 1.47 1.35L5.41 20z\"/>\n",
              "  </svg>\n",
              "      </button>\n",
              "\n",
              "\n",
              "\n",
              "    <div id=\"df-bbcac04c-935b-4f83-b3c2-55e5035634b4\">\n",
              "      <button class=\"colab-df-quickchart\" onclick=\"quickchart('df-bbcac04c-935b-4f83-b3c2-55e5035634b4')\"\n",
              "              title=\"Suggest charts.\"\n",
              "              style=\"display:none;\">\n",
              "\n",
              "<svg xmlns=\"http://www.w3.org/2000/svg\" height=\"24px\"viewBox=\"0 0 24 24\"\n",
              "     width=\"24px\">\n",
              "    <g>\n",
              "        <path d=\"M19 3H5c-1.1 0-2 .9-2 2v14c0 1.1.9 2 2 2h14c1.1 0 2-.9 2-2V5c0-1.1-.9-2-2-2zM9 17H7v-7h2v7zm4 0h-2V7h2v10zm4 0h-2v-4h2v4z\"/>\n",
              "    </g>\n",
              "</svg>\n",
              "      </button>\n",
              "    </div>\n",
              "\n",
              "<style>\n",
              "  .colab-df-quickchart {\n",
              "    background-color: #E8F0FE;\n",
              "    border: none;\n",
              "    border-radius: 50%;\n",
              "    cursor: pointer;\n",
              "    display: none;\n",
              "    fill: #1967D2;\n",
              "    height: 32px;\n",
              "    padding: 0 0 0 0;\n",
              "    width: 32px;\n",
              "  }\n",
              "\n",
              "  .colab-df-quickchart:hover {\n",
              "    background-color: #E2EBFA;\n",
              "    box-shadow: 0px 1px 2px rgba(60, 64, 67, 0.3), 0px 1px 3px 1px rgba(60, 64, 67, 0.15);\n",
              "    fill: #174EA6;\n",
              "  }\n",
              "\n",
              "  [theme=dark] .colab-df-quickchart {\n",
              "    background-color: #3B4455;\n",
              "    fill: #D2E3FC;\n",
              "  }\n",
              "\n",
              "  [theme=dark] .colab-df-quickchart:hover {\n",
              "    background-color: #434B5C;\n",
              "    box-shadow: 0px 1px 3px 1px rgba(0, 0, 0, 0.15);\n",
              "    filter: drop-shadow(0px 1px 2px rgba(0, 0, 0, 0.3));\n",
              "    fill: #FFFFFF;\n",
              "  }\n",
              "</style>\n",
              "\n",
              "    <script>\n",
              "      async function quickchart(key) {\n",
              "        const containerElement = document.querySelector('#' + key);\n",
              "        const charts = await google.colab.kernel.invokeFunction(\n",
              "            'suggestCharts', [key], {});\n",
              "      }\n",
              "    </script>\n",
              "\n",
              "      <script>\n",
              "\n",
              "function displayQuickchartButton(domScope) {\n",
              "  let quickchartButtonEl =\n",
              "    domScope.querySelector('#df-bbcac04c-935b-4f83-b3c2-55e5035634b4 button.colab-df-quickchart');\n",
              "  quickchartButtonEl.style.display =\n",
              "    google.colab.kernel.accessAllowed ? 'block' : 'none';\n",
              "}\n",
              "\n",
              "        displayQuickchartButton(document);\n",
              "      </script>\n",
              "      <style>\n",
              "    .colab-df-container {\n",
              "      display:flex;\n",
              "      flex-wrap:wrap;\n",
              "      gap: 12px;\n",
              "    }\n",
              "\n",
              "    .colab-df-convert {\n",
              "      background-color: #E8F0FE;\n",
              "      border: none;\n",
              "      border-radius: 50%;\n",
              "      cursor: pointer;\n",
              "      display: none;\n",
              "      fill: #1967D2;\n",
              "      height: 32px;\n",
              "      padding: 0 0 0 0;\n",
              "      width: 32px;\n",
              "    }\n",
              "\n",
              "    .colab-df-convert:hover {\n",
              "      background-color: #E2EBFA;\n",
              "      box-shadow: 0px 1px 2px rgba(60, 64, 67, 0.3), 0px 1px 3px 1px rgba(60, 64, 67, 0.15);\n",
              "      fill: #174EA6;\n",
              "    }\n",
              "\n",
              "    [theme=dark] .colab-df-convert {\n",
              "      background-color: #3B4455;\n",
              "      fill: #D2E3FC;\n",
              "    }\n",
              "\n",
              "    [theme=dark] .colab-df-convert:hover {\n",
              "      background-color: #434B5C;\n",
              "      box-shadow: 0px 1px 3px 1px rgba(0, 0, 0, 0.15);\n",
              "      filter: drop-shadow(0px 1px 2px rgba(0, 0, 0, 0.3));\n",
              "      fill: #FFFFFF;\n",
              "    }\n",
              "  </style>\n",
              "\n",
              "      <script>\n",
              "        const buttonEl =\n",
              "          document.querySelector('#df-4307e378-df74-4f34-aab1-efb4ecf3ceae button.colab-df-convert');\n",
              "        buttonEl.style.display =\n",
              "          google.colab.kernel.accessAllowed ? 'block' : 'none';\n",
              "\n",
              "        async function convertToInteractive(key) {\n",
              "          const element = document.querySelector('#df-4307e378-df74-4f34-aab1-efb4ecf3ceae');\n",
              "          const dataTable =\n",
              "            await google.colab.kernel.invokeFunction('convertToInteractive',\n",
              "                                                     [key], {});\n",
              "          if (!dataTable) return;\n",
              "\n",
              "          const docLinkHtml = 'Like what you see? Visit the ' +\n",
              "            '<a target=\"_blank\" href=https://colab.research.google.com/notebooks/data_table.ipynb>data table notebook</a>'\n",
              "            + ' to learn more about interactive tables.';\n",
              "          element.innerHTML = '';\n",
              "          dataTable['output_type'] = 'display_data';\n",
              "          await google.colab.output.renderOutput(dataTable, element);\n",
              "          const docLink = document.createElement('div');\n",
              "          docLink.innerHTML = docLinkHtml;\n",
              "          element.appendChild(docLink);\n",
              "        }\n",
              "      </script>\n",
              "    </div>\n",
              "  </div>\n"
            ]
          },
          "metadata": {},
          "execution_count": 112
        }
      ]
    },
    {
      "cell_type": "code",
      "source": [
        "#class balance check\n",
        "sns.barplot(x=df_dc['Exited'].value_counts().index,y=df_dc['Exited'].value_counts().values)\n"
      ],
      "metadata": {
        "colab": {
          "base_uri": "https://localhost:8080/",
          "height": 448
        },
        "id": "lzUJankPpdRF",
        "outputId": "09b9f952-2a9b-46fa-f0ca-1c87eddf2e17"
      },
      "execution_count": 124,
      "outputs": [
        {
          "output_type": "execute_result",
          "data": {
            "text/plain": [
              "<Axes: >"
            ]
          },
          "metadata": {},
          "execution_count": 124
        },
        {
          "output_type": "display_data",
          "data": {
            "text/plain": [
              "<Figure size 640x480 with 1 Axes>"
            ],
            "image/png": "[encoded data removed]"
          },
          "metadata": {}
        }
      ]
    },
    {
      "cell_type": "markdown",
      "source": [
        "## Model Constructing"
      ],
      "metadata": {
        "id": "jx9hWoRaZRvN"
      }
    },
    {
      "cell_type": "code",
      "source": [
        "#importing the libraries:\n",
        "\n",
        "from sklearn.model_selection import train_test_split\n",
        "from sklearn.naive_bayes import GaussianNB\n",
        "\n",
        "#Model Metrics\n",
        "from sklearn.metrics import recall_score, precision_score, f1_score, accuracy_score\n",
        "from sklearn.metrics import confusion_matrix, ConfusionMatrixDisplay"
      ],
      "metadata": {
        "id": "98ocF-SOmRuL"
      },
      "execution_count": 113,
      "outputs": []
    },
    {
      "cell_type": "code",
      "source": [
        "#Naiev bayes model works well when the variables are independent:\n",
        "df_dc = df_dc.drop(['Tenure', 'Age'], axis=1)\n",
        "df_dc.head()"
      ],
      "metadata": {
        "colab": {
          "base_uri": "https://localhost:8080/",
          "height": 250
        },
        "id": "Gg9msdN5oZWO",
        "outputId": "8411397d-322a-49f6-f803-2fd73e7443d6"
      },
      "execution_count": 125,
      "outputs": [
        {
          "output_type": "execute_result",
          "data": {
            "text/plain": [
              "   CreditScore    Balance  NumOfProducts  HasCrCard  IsActiveMember  \\\n",
              "0          619       0.00              1          1               1   \n",
              "1          608   83807.86              1          0               1   \n",
              "2          502  159660.80              3          1               0   \n",
              "3          699       0.00              2          0               0   \n",
              "4          850  125510.82              1          1               1   \n",
              "\n",
              "   EstimatedSalary  Exited  portioninage  age_by_decade  Geography_Germany  \\\n",
              "0        101348.88       1      0.047619              3                  0   \n",
              "1        112542.58       0      0.024390              3                  0   \n",
              "2        113931.57       1      0.190476              3                  0   \n",
              "3         93826.63       0      0.025641              2                  0   \n",
              "4         79084.10       0      0.046512              3                  0   \n",
              "\n",
              "   Geography_Spain  \n",
              "0                0  \n",
              "1                1  \n",
              "2                0  \n",
              "3                0  \n",
              "4                1  "
            ],
            "text/html": [
              "\n",
              "\n",
              "  <div id=\"df-4ce7d4cd-3a15-4802-b023-db8e4c39a96a\">\n",
              "    <div class=\"colab-df-container\">\n",
              "      <div>\n",
              "<style scoped>\n",
              "    .dataframe tbody tr th:only-of-type {\n",
              "        vertical-align: middle;\n",
              "    }\n",
              "\n",
              "    .dataframe tbody tr th {\n",
              "        vertical-align: top;\n",
              "    }\n",
              "\n",
              "    .dataframe thead th {\n",
              "        text-align: right;\n",
              "    }\n",
              "</style>\n",
              "<table border=\"1\" class=\"dataframe\">\n",
              "  <thead>\n",
              "    <tr style=\"text-align: right;\">\n",
              "      <th></th>\n",
              "      <th>CreditScore</th>\n",
              "      <th>Balance</th>\n",
              "      <th>NumOfProducts</th>\n",
              "      <th>HasCrCard</th>\n",
              "      <th>IsActiveMember</th>\n",
              "      <th>EstimatedSalary</th>\n",
              "      <th>Exited</th>\n",
              "      <th>portioninage</th>\n",
              "      <th>age_by_decade</th>\n",
              "      <th>Geography_Germany</th>\n",
              "      <th>Geography_Spain</th>\n",
              "    </tr>\n",
              "  </thead>\n",
              "  <tbody>\n",
              "    <tr>\n",
              "      <th>0</th>\n",
              "      <td>619</td>\n",
              "      <td>0.00</td>\n",
              "      <td>1</td>\n",
              "      <td>1</td>\n",
              "      <td>1</td>\n",
              "      <td>101348.88</td>\n",
              "      <td>1</td>\n",
              "      <td>0.047619</td>\n",
              "      <td>3</td>\n",
              "      <td>0</td>\n",
              "      <td>0</td>\n",
              "    </tr>\n",
              "    <tr>\n",
              "      <th>1</th>\n",
              "      <td>608</td>\n",
              "      <td>83807.86</td>\n",
              "      <td>1</td>\n",
              "      <td>0</td>\n",
              "      <td>1</td>\n",
              "      <td>112542.58</td>\n",
              "      <td>0</td>\n",
              "      <td>0.024390</td>\n",
              "      <td>3</td>\n",
              "      <td>0</td>\n",
              "      <td>1</td>\n",
              "    </tr>\n",
              "    <tr>\n",
              "      <th>2</th>\n",
              "      <td>502</td>\n",
              "      <td>159660.80</td>\n",
              "      <td>3</td>\n",
              "      <td>1</td>\n",
              "      <td>0</td>\n",
              "      <td>113931.57</td>\n",
              "      <td>1</td>\n",
              "      <td>0.190476</td>\n",
              "      <td>3</td>\n",
              "      <td>0</td>\n",
              "      <td>0</td>\n",
              "    </tr>\n",
              "    <tr>\n",
              "      <th>3</th>\n",
              "      <td>699</td>\n",
              "      <td>0.00</td>\n",
              "      <td>2</td>\n",
              "      <td>0</td>\n",
              "      <td>0</td>\n",
              "      <td>93826.63</td>\n",
              "      <td>0</td>\n",
              "      <td>0.025641</td>\n",
              "      <td>2</td>\n",
              "      <td>0</td>\n",
              "      <td>0</td>\n",
              "    </tr>\n",
              "    <tr>\n",
              "      <th>4</th>\n",
              "      <td>850</td>\n",
              "      <td>125510.82</td>\n",
              "      <td>1</td>\n",
              "      <td>1</td>\n",
              "      <td>1</td>\n",
              "      <td>79084.10</td>\n",
              "      <td>0</td>\n",
              "      <td>0.046512</td>\n",
              "      <td>3</td>\n",
              "      <td>0</td>\n",
              "      <td>1</td>\n",
              "    </tr>\n",
              "  </tbody>\n",
              "</table>\n",
              "</div>\n",
              "      <button class=\"colab-df-convert\" onclick=\"convertToInteractive('df-4ce7d4cd-3a15-4802-b023-db8e4c39a96a')\"\n",
              "              title=\"Convert this dataframe to an interactive table.\"\n",
              "              style=\"display:none;\">\n",
              "\n",
              "  <svg xmlns=\"http://www.w3.org/2000/svg\" height=\"24px\"viewBox=\"0 0 24 24\"\n",
              "       width=\"24px\">\n",
              "    <path d=\"M0 0h24v24H0V0z\" fill=\"none\"/>\n",
              "    <path d=\"M18.56 5.44l.94 2.06.94-2.06 2.06-.94-2.06-.94-.94-2.06-.94 2.06-2.06.94zm-11 1L8.5 8.5l.94-2.06 2.06-.94-2.06-.94L8.5 2.5l-.94 2.06-2.06.94zm10 10l.94 2.06.94-2.06 2.06-.94-2.06-.94-.94-2.06-.94 2.06-2.06.94z\"/><path d=\"M17.41 7.96l-1.37-1.37c-.4-.4-.92-.59-1.43-.59-.52 0-1.04.2-1.43.59L10.3 9.45l-7.72 7.72c-.78.78-.78 2.05 0 2.83L4 21.41c.39.39.9.59 1.41.59.51 0 1.02-.2 1.41-.59l7.78-7.78 2.81-2.81c.8-.78.8-2.07 0-2.86zM5.41 20L4 18.59l7.72-7.72 1.47 1.35L5.41 20z\"/>\n",
              "  </svg>\n",
              "      </button>\n",
              "\n",
              "\n",
              "\n",
              "    <div id=\"df-25340ed2-8406-4412-907d-accbde629bec\">\n",
              "      <button class=\"colab-df-quickchart\" onclick=\"quickchart('df-25340ed2-8406-4412-907d-accbde629bec')\"\n",
              "              title=\"Suggest charts.\"\n",
              "              style=\"display:none;\">\n",
              "\n",
              "<svg xmlns=\"http://www.w3.org/2000/svg\" height=\"24px\"viewBox=\"0 0 24 24\"\n",
              "     width=\"24px\">\n",
              "    <g>\n",
              "        <path d=\"M19 3H5c-1.1 0-2 .9-2 2v14c0 1.1.9 2 2 2h14c1.1 0 2-.9 2-2V5c0-1.1-.9-2-2-2zM9 17H7v-7h2v7zm4 0h-2V7h2v10zm4 0h-2v-4h2v4z\"/>\n",
              "    </g>\n",
              "</svg>\n",
              "      </button>\n",
              "    </div>\n",
              "\n",
              "<style>\n",
              "  .colab-df-quickchart {\n",
              "    background-color: #E8F0FE;\n",
              "    border: none;\n",
              "    border-radius: 50%;\n",
              "    cursor: pointer;\n",
              "    display: none;\n",
              "    fill: #1967D2;\n",
              "    height: 32px;\n",
              "    padding: 0 0 0 0;\n",
              "    width: 32px;\n",
              "  }\n",
              "\n",
              "  .colab-df-quickchart:hover {\n",
              "    background-color: #E2EBFA;\n",
              "    box-shadow: 0px 1px 2px rgba(60, 64, 67, 0.3), 0px 1px 3px 1px rgba(60, 64, 67, 0.15);\n",
              "    fill: #174EA6;\n",
              "  }\n",
              "\n",
              "  [theme=dark] .colab-df-quickchart {\n",
              "    background-color: #3B4455;\n",
              "    fill: #D2E3FC;\n",
              "  }\n",
              "\n",
              "  [theme=dark] .colab-df-quickchart:hover {\n",
              "    background-color: #434B5C;\n",
              "    box-shadow: 0px 1px 3px 1px rgba(0, 0, 0, 0.15);\n",
              "    filter: drop-shadow(0px 1px 2px rgba(0, 0, 0, 0.3));\n",
              "    fill: #FFFFFF;\n",
              "  }\n",
              "</style>\n",
              "\n",
              "    <script>\n",
              "      async function quickchart(key) {\n",
              "        const containerElement = document.querySelector('#' + key);\n",
              "        const charts = await google.colab.kernel.invokeFunction(\n",
              "            'suggestCharts', [key], {});\n",
              "      }\n",
              "    </script>\n",
              "\n",
              "      <script>\n",
              "\n",
              "function displayQuickchartButton(domScope) {\n",
              "  let quickchartButtonEl =\n",
              "    domScope.querySelector('#df-25340ed2-8406-4412-907d-accbde629bec button.colab-df-quickchart');\n",
              "  quickchartButtonEl.style.display =\n",
              "    google.colab.kernel.accessAllowed ? 'block' : 'none';\n",
              "}\n",
              "\n",
              "        displayQuickchartButton(document);\n",
              "      </script>\n",
              "      <style>\n",
              "    .colab-df-container {\n",
              "      display:flex;\n",
              "      flex-wrap:wrap;\n",
              "      gap: 12px;\n",
              "    }\n",
              "\n",
              "    .colab-df-convert {\n",
              "      background-color: #E8F0FE;\n",
              "      border: none;\n",
              "      border-radius: 50%;\n",
              "      cursor: pointer;\n",
              "      display: none;\n",
              "      fill: #1967D2;\n",
              "      height: 32px;\n",
              "      padding: 0 0 0 0;\n",
              "      width: 32px;\n",
              "    }\n",
              "\n",
              "    .colab-df-convert:hover {\n",
              "      background-color: #E2EBFA;\n",
              "      box-shadow: 0px 1px 2px rgba(60, 64, 67, 0.3), 0px 1px 3px 1px rgba(60, 64, 67, 0.15);\n",
              "      fill: #174EA6;\n",
              "    }\n",
              "\n",
              "    [theme=dark] .colab-df-convert {\n",
              "      background-color: #3B4455;\n",
              "      fill: #D2E3FC;\n",
              "    }\n",
              "\n",
              "    [theme=dark] .colab-df-convert:hover {\n",
              "      background-color: #434B5C;\n",
              "      box-shadow: 0px 1px 3px 1px rgba(0, 0, 0, 0.15);\n",
              "      filter: drop-shadow(0px 1px 2px rgba(0, 0, 0, 0.3));\n",
              "      fill: #FFFFFF;\n",
              "    }\n",
              "  </style>\n",
              "\n",
              "      <script>\n",
              "        const buttonEl =\n",
              "          document.querySelector('#df-4ce7d4cd-3a15-4802-b023-db8e4c39a96a button.colab-df-convert');\n",
              "        buttonEl.style.display =\n",
              "          google.colab.kernel.accessAllowed ? 'block' : 'none';\n",
              "\n",
              "        async function convertToInteractive(key) {\n",
              "          const element = document.querySelector('#df-4ce7d4cd-3a15-4802-b023-db8e4c39a96a');\n",
              "          const dataTable =\n",
              "            await google.colab.kernel.invokeFunction('convertToInteractive',\n",
              "                                                     [key], {});\n",
              "          if (!dataTable) return;\n",
              "\n",
              "          const docLinkHtml = 'Like what you see? Visit the ' +\n",
              "            '<a target=\"_blank\" href=https://colab.research.google.com/notebooks/data_table.ipynb>data table notebook</a>'\n",
              "            + ' to learn more about interactive tables.';\n",
              "          element.innerHTML = '';\n",
              "          dataTable['output_type'] = 'display_data';\n",
              "          await google.colab.output.renderOutput(dataTable, element);\n",
              "          const docLink = document.createElement('div');\n",
              "          docLink.innerHTML = docLinkHtml;\n",
              "          element.appendChild(docLink);\n",
              "        }\n",
              "      </script>\n",
              "    </div>\n",
              "  </div>\n"
            ]
          },
          "metadata": {},
          "execution_count": 125
        }
      ]
    },
    {
      "cell_type": "code",
      "source": [
        "# Define the y (target) variable\n",
        "y = df_dc['Exited']\n",
        "\n",
        "# Define the X (predictor) variables\n",
        "X = df_dc.copy()\n",
        "X = X.drop('Exited', axis=1)\n",
        "\n",
        "# Split into train and test sets\n",
        "X_train, X_test, y_train, y_test = train_test_split(X, y, test_size=0.25, \\\n",
        "                                                    stratify=y, random_state=42)"
      ],
      "metadata": {
        "id": "Ela9AWbbtm34"
      },
      "execution_count": 126,
      "outputs": []
    },
    {
      "cell_type": "code",
      "source": [
        "#Unscaled model:\n",
        "# Fit the model\n",
        "gnb = GaussianNB()\n",
        "gnb.fit(X_train, y_train)\n",
        "\n",
        "# Get the predictions on test data\n",
        "y_preds = gnb.predict(X_test)"
      ],
      "metadata": {
        "id": "4JCO14vwtyog"
      },
      "execution_count": 127,
      "outputs": []
    },
    {
      "cell_type": "code",
      "source": [
        "print('Accuracy:', '%.3f' % accuracy_score(y_test, y_preds))\n",
        "print('Precision:', '%.3f' % precision_score(y_test, y_preds))\n",
        "print('Recall:', '%.3f' % recall_score(y_test, y_preds))\n",
        "print('F1 Score:', '%.3f' % f1_score(y_test, y_preds))"
      ],
      "metadata": {
        "colab": {
          "base_uri": "https://localhost:8080/"
        },
        "id": "8Drebmadt4hd",
        "outputId": "06c6a51b-7476-430d-e15d-d049248d7c46"
      },
      "execution_count": 128,
      "outputs": [
        {
          "output_type": "stream",
          "name": "stdout",
          "text": [
            "Accuracy: 0.796\n",
            "Precision: 0.000\n",
            "Recall: 0.000\n",
            "F1 Score: 0.000\n"
          ]
        },
        {
          "output_type": "stream",
          "name": "stderr",
          "text": [
            "/usr/local/lib/python3.10/dist-packages/sklearn/metrics/_classification.py:1344: UndefinedMetricWarning:\n",
            "\n",
            "Precision is ill-defined and being set to 0.0 due to no predicted samples. Use `zero_division` parameter to control this behavior.\n",
            "\n"
          ]
        }
      ]
    },
    {
      "cell_type": "code",
      "source": [
        "#Scaled model:\n",
        "# Import the scaler function\n",
        "from sklearn.preprocessing import MinMaxScaler\n",
        "\n",
        "# Instantiate the scaler\n",
        "scaler = MinMaxScaler()\n",
        "\n",
        "# Fit the scaler to the training data\n",
        "scaler.fit(X_train)\n",
        "\n",
        "# Scale the training data\n",
        "X_train = scaler.transform(X_train)\n",
        "\n",
        "# Scale the test data\n",
        "X_test = scaler.transform(X_test)"
      ],
      "metadata": {
        "id": "J_cGQCpIt6pB"
      },
      "execution_count": 129,
      "outputs": []
    },
    {
      "cell_type": "code",
      "source": [
        "X_train"
      ],
      "metadata": {
        "colab": {
          "base_uri": "https://localhost:8080/"
        },
        "id": "wlNbwSm-uiTZ",
        "outputId": "70adf60a-34e3-4226-cbed-7c92226f3d01"
      },
      "execution_count": 133,
      "outputs": [
        {
          "output_type": "execute_result",
          "data": {
            "text/plain": [
              "array([[0.77      , 0.55719027, 0.33333333, ..., 0.44444444, 0.        ,\n",
              "        0.        ],\n",
              "       [0.336     , 0.40922653, 0.        , ..., 0.22222222, 0.        ,\n",
              "        0.        ],\n",
              "       [0.444     , 0.43813186, 0.        , ..., 0.44444444, 1.        ,\n",
              "        0.        ],\n",
              "       ...,\n",
              "       [0.634     , 0.32297505, 0.33333333, ..., 0.22222222, 0.        ,\n",
              "        0.        ],\n",
              "       [0.674     , 0.45435491, 0.33333333, ..., 0.22222222, 0.        ,\n",
              "        1.        ],\n",
              "       [0.904     , 0.        , 0.        , ..., 0.44444444, 0.        ,\n",
              "        1.        ]])"
            ]
          },
          "metadata": {},
          "execution_count": 133
        }
      ]
    },
    {
      "cell_type": "code",
      "source": [
        "# Fit the model\n",
        "gnb_scaled = GaussianNB()\n",
        "gnb_scaled.fit(X_train, y_train)\n",
        "\n",
        "# Get the predictions on test data\n",
        "scaled_preds = gnb_scaled.predict(X_test)"
      ],
      "metadata": {
        "id": "UWOSYyItuEHF"
      },
      "execution_count": 130,
      "outputs": []
    },
    {
      "cell_type": "code",
      "source": [
        "print('Accuracy:', '%.3f' % accuracy_score(y_test, scaled_preds))\n",
        "print('Precision:', '%.3f' % precision_score(y_test,scaled_preds))\n",
        "print('Recall:', '%.3f' % recall_score(y_test, scaled_preds))\n",
        "print('F1 Score:', '%.3f' % f1_score(y_test, scaled_preds))"
      ],
      "metadata": {
        "colab": {
          "base_uri": "https://localhost:8080/"
        },
        "id": "RtrcDJA6uHU9",
        "outputId": "9bfb1bdd-4791-4e97-e8cd-719e8ed7af91"
      },
      "execution_count": 131,
      "outputs": [
        {
          "output_type": "stream",
          "name": "stdout",
          "text": [
            "Accuracy: 0.821\n",
            "Precision: 0.603\n",
            "Recall: 0.352\n",
            "F1 Score: 0.444\n"
          ]
        }
      ]
    },
    {
      "cell_type": "markdown",
      "source": [
        "## Logistic Regression model"
      ],
      "metadata": {
        "id": "xtpHf9MXwAyL"
      }
    },
    {
      "cell_type": "code",
      "source": [
        "from sklearn.metrics import classification_report\n",
        "from sklearn.linear_model import LogisticRegression"
      ],
      "metadata": {
        "id": "26ul5vmYwr7k"
      },
      "execution_count": 135,
      "outputs": []
    },
    {
      "cell_type": "code",
      "source": [
        "logisticModel=LogisticRegression(penalty='none').fit(X_train, y_train)\n",
        "log_pred=logisticModel.predict(X_test)"
      ],
      "metadata": {
        "colab": {
          "base_uri": "https://localhost:8080/"
        },
        "id": "T0saz3XyuJlH",
        "outputId": "59b4a680-6193-40c1-c28a-05ed73b9bb31"
      },
      "execution_count": 137,
      "outputs": [
        {
          "output_type": "stream",
          "name": "stderr",
          "text": [
            "/usr/local/lib/python3.10/dist-packages/sklearn/linear_model/_logistic.py:1173: FutureWarning:\n",
            "\n",
            "`penalty='none'`has been deprecated in 1.2 and will be removed in 1.4. To keep the past behaviour, set `penalty=None`.\n",
            "\n"
          ]
        }
      ]
    },
    {
      "cell_type": "code",
      "source": [
        "print('Accuracy:', '%.3f' % accuracy_score(y_test, log_pred))\n",
        "print('Precision:', '%.3f' % precision_score(y_test,log_pred))\n",
        "print('Recall:', '%.3f' % recall_score(y_test, log_pred))\n",
        "print('F1 Score:', '%.3f' % f1_score(y_test, log_pred))"
      ],
      "metadata": {
        "colab": {
          "base_uri": "https://localhost:8080/"
        },
        "id": "U-zVMOwGxgWz",
        "outputId": "16f94c4f-5371-4044-aa12-d29def428db0"
      },
      "execution_count": 138,
      "outputs": [
        {
          "output_type": "stream",
          "name": "stdout",
          "text": [
            "Accuracy: 0.810\n",
            "Precision: 0.618\n",
            "Recall: 0.175\n",
            "F1 Score: 0.273\n"
          ]
        }
      ]
    },
    {
      "cell_type": "markdown",
      "source": [
        "## Decision Tree Model"
      ],
      "metadata": {
        "id": "cN4lMYkkyBsI"
      }
    },
    {
      "cell_type": "code",
      "source": [
        "from sklearn.tree import DecisionTreeClassifier\n",
        "dtc = DecisionTreeClassifier()\n",
        "dtc.fit(X_train, y_train)\n",
        "dt_pred = dtc.predict(X_test)"
      ],
      "metadata": {
        "id": "C1eSfbSexvRP"
      },
      "execution_count": 139,
      "outputs": []
    },
    {
      "cell_type": "code",
      "source": [
        "print('Accuracy:', '%.3f' % accuracy_score(y_test, dt_pred))\n",
        "print('Precision:', '%.3f' % precision_score(y_test,dt_pred))\n",
        "print('Recall:', '%.3f' % recall_score(y_test, dt_pred))\n",
        "print('F1 Score:', '%.3f' % f1_score(y_test, dt_pred))"
      ],
      "metadata": {
        "colab": {
          "base_uri": "https://localhost:8080/"
        },
        "id": "jjxzS7XsyM_W",
        "outputId": "56220056-b0d5-47ca-dafd-9c4f9d1f5bdb"
      },
      "execution_count": 140,
      "outputs": [
        {
          "output_type": "stream",
          "name": "stdout",
          "text": [
            "Accuracy: 0.786\n",
            "Precision: 0.475\n",
            "Recall: 0.487\n",
            "F1 Score: 0.481\n"
          ]
        }
      ]
    },
    {
      "cell_type": "markdown",
      "source": [
        "## Random Forest Model"
      ],
      "metadata": {
        "id": "4hMRLkRbyU_g"
      }
    },
    {
      "cell_type": "code",
      "source": [
        "from sklearn.ensemble import RandomForestClassifier\n",
        "rfc = RandomForestClassifier()\n",
        "rfc.fit(X_train, y_train)\n",
        "rf_pred = rfc.predict(X_test)"
      ],
      "metadata": {
        "id": "_HcSHEL1yQFR"
      },
      "execution_count": 141,
      "outputs": []
    },
    {
      "cell_type": "code",
      "source": [
        "print('Accuracy:', '%.3f' % accuracy_score(y_test, rf_pred))\n",
        "print('Precision:', '%.3f' % precision_score(y_test,rf_pred))\n",
        "print('Recall:', '%.3f' % recall_score(y_test, rf_pred))\n",
        "print('F1 Score:', '%.3f' % f1_score(y_test, rf_pred))"
      ],
      "metadata": {
        "colab": {
          "base_uri": "https://localhost:8080/"
        },
        "id": "zgpb4_hvyaYS",
        "outputId": "05a9aa42-8cbc-4ca0-b544-0d21fe221cef"
      },
      "execution_count": 142,
      "outputs": [
        {
          "output_type": "stream",
          "name": "stdout",
          "text": [
            "Accuracy: 0.860\n",
            "Precision: 0.760\n",
            "Recall: 0.460\n",
            "F1 Score: 0.573\n"
          ]
        }
      ]
    },
    {
      "cell_type": "markdown",
      "source": [
        "##  Support Vector Machine (SVM) Model"
      ],
      "metadata": {
        "id": "ibunrP-fyhq1"
      }
    },
    {
      "cell_type": "code",
      "source": [
        "from sklearn.svm import SVC\n",
        "svc = SVC()\n",
        "svc.fit(X_train, y_train)\n",
        "sv_pred = svc.predict(X_test)"
      ],
      "metadata": {
        "id": "tg1GbdEGyd_x"
      },
      "execution_count": 143,
      "outputs": []
    },
    {
      "cell_type": "code",
      "source": [
        "print('Accuracy:', '%.3f' % accuracy_score(y_test, sv_pred))\n",
        "print('Precision:', '%.3f' % precision_score(y_test,sv_pred))\n",
        "print('Recall:', '%.3f' % recall_score(y_test, sv_pred))\n",
        "print('F1 Score:', '%.3f' % f1_score(y_test, sv_pred))"
      ],
      "metadata": {
        "colab": {
          "base_uri": "https://localhost:8080/"
        },
        "id": "DmRHww4xymjO",
        "outputId": "142181c4-0acc-49e7-ac16-cd399735486e"
      },
      "execution_count": 144,
      "outputs": [
        {
          "output_type": "stream",
          "name": "stdout",
          "text": [
            "Accuracy: 0.845\n",
            "Precision: 0.810\n",
            "Recall: 0.310\n",
            "F1 Score: 0.449\n"
          ]
        }
      ]
    },
    {
      "cell_type": "markdown",
      "source": [
        "## KNN Model"
      ],
      "metadata": {
        "id": "5yZ7vCUuyyhR"
      }
    },
    {
      "cell_type": "code",
      "source": [
        "from sklearn.neighbors import KNeighborsClassifier\n",
        "knn = KNeighborsClassifier()\n",
        "knn.fit(X_train, y_train)\n",
        "kn_pred = knn.predict(X_test)"
      ],
      "metadata": {
        "id": "R1v_Wap1yqny"
      },
      "execution_count": 145,
      "outputs": []
    },
    {
      "cell_type": "code",
      "source": [
        "print('Accuracy:', '%.3f' % accuracy_score(y_test, kn_pred))\n",
        "print('Precision:', '%.3f' % precision_score(y_test,kn_pred))\n",
        "print('Recall:', '%.3f' % recall_score(y_test, kn_pred))\n",
        "print('F1 Score:', '%.3f' % f1_score(y_test, kn_pred))"
      ],
      "metadata": {
        "colab": {
          "base_uri": "https://localhost:8080/"
        },
        "id": "AEgq4N2Ty10y",
        "outputId": "4365b50b-2080-4eb6-9ff9-dac99dc49531"
      },
      "execution_count": 146,
      "outputs": [
        {
          "output_type": "stream",
          "name": "stdout",
          "text": [
            "Accuracy: 0.832\n",
            "Precision: 0.644\n",
            "Recall: 0.387\n",
            "F1 Score: 0.483\n"
          ]
        }
      ]
    }
  ]
}