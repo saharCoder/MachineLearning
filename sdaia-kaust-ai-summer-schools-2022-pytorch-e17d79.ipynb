{
 "cells": [
  {
   "cell_type": "code",
   "execution_count": 1,
   "id": "2336ce3b",
   "metadata": {
    "execution": {
     "iopub.execute_input": "2022-08-25T11:47:28.169055Z",
     "iopub.status.busy": "2022-08-25T11:47:28.168549Z",
     "iopub.status.idle": "2022-08-25T11:47:39.834647Z",
     "shell.execute_reply": "2022-08-25T11:47:39.832769Z"
    },
    "papermill": {
     "duration": 11.680189,
     "end_time": "2022-08-25T11:47:39.838308",
     "exception": false,
     "start_time": "2022-08-25T11:47:28.158119",
     "status": "completed"
    },
    "tags": []
   },
   "outputs": [
    {
     "name": "stdout",
     "output_type": "stream",
     "text": [
      "Collecting torchinfo\n",
      "  Downloading torchinfo-1.7.0-py3-none-any.whl (22 kB)\n",
      "Requirement already satisfied: torchmetrics in /opt/conda/lib/python3.7/site-packages (0.9.2)\n",
      "Requirement already satisfied: numpy>=1.17.2 in /opt/conda/lib/python3.7/site-packages (from torchmetrics) (1.21.6)\n",
      "Requirement already satisfied: packaging in /opt/conda/lib/python3.7/site-packages (from torchmetrics) (21.3)\n",
      "Requirement already satisfied: torch>=1.3.1 in /opt/conda/lib/python3.7/site-packages (from torchmetrics) (1.11.0+cpu)\n",
      "Requirement already satisfied: typing-extensions in /opt/conda/lib/python3.7/site-packages (from torchmetrics) (4.1.1)\n",
      "Requirement already satisfied: pyparsing!=3.0.5,>=2.0.2 in /opt/conda/lib/python3.7/site-packages (from packaging->torchmetrics) (3.0.9)\n",
      "Installing collected packages: torchinfo\n",
      "Successfully installed torchinfo-1.7.0\n"
     ]
    },
    {
     "name": "stderr",
     "output_type": "stream",
     "text": [
      "WARNING: Running pip as the 'root' user can result in broken permissions and conflicting behaviour with the system package manager. It is recommended to use a virtual environment instead: https://pip.pypa.io/warnings/venv\n"
     ]
    }
   ],
   "source": [
    "%%bash\n",
    "\n",
    "pip install torchinfo torchmetrics"
   ]
  },
  {
   "cell_type": "code",
   "execution_count": 2,
   "id": "f6fb3af2",
   "metadata": {
    "_cell_guid": "b1076dfc-b9ad-4769-8c92-a6c4dae69d19",
    "_uuid": "8f2839f25d086af736a60e9eeb907d3b93b6e0e5",
    "execution": {
     "iopub.execute_input": "2022-08-25T11:47:39.855411Z",
     "iopub.status.busy": "2022-08-25T11:47:39.854467Z",
     "iopub.status.idle": "2022-08-25T11:47:43.929373Z",
     "shell.execute_reply": "2022-08-25T11:47:43.928257Z"
    },
    "papermill": {
     "duration": 4.08686,
     "end_time": "2022-08-25T11:47:43.932497",
     "exception": false,
     "start_time": "2022-08-25T11:47:39.845637",
     "status": "completed"
    },
    "tags": []
   },
   "outputs": [],
   "source": [
    "import glob\n",
    "import pathlib\n",
    "import pickle\n",
    "import requests\n",
    "import tarfile\n",
    "import time\n",
    "\n",
    "import joblib\n",
    "import matplotlib.pyplot as plt\n",
    "import numpy as np\n",
    "import pandas as pd\n",
    "from sklearn import model_selection\n",
    "import torch\n",
    "from torch import nn, optim\n",
    "import torch.nn.functional as F\n",
    "from torch.utils import data\n",
    "import torchinfo\n",
    "import torchmetrics\n",
    "from torchvision import models, transforms"
   ]
  },
  {
   "cell_type": "markdown",
   "id": "adc0a275",
   "metadata": {
    "papermill": {
     "duration": 0.006547,
     "end_time": "2022-08-25T11:47:43.946099",
     "exception": false,
     "start_time": "2022-08-25T11:47:43.939552",
     "status": "completed"
    },
    "tags": []
   },
   "source": [
    "# Load the data"
   ]
  },
  {
   "cell_type": "code",
   "execution_count": 3,
   "id": "d38535cb",
   "metadata": {
    "execution": {
     "iopub.execute_input": "2022-08-25T11:47:43.961841Z",
     "iopub.status.busy": "2022-08-25T11:47:43.960777Z",
     "iopub.status.idle": "2022-08-25T11:47:44.000015Z",
     "shell.execute_reply": "2022-08-25T11:47:43.998767Z"
    },
    "papermill": {
     "duration": 0.049676,
     "end_time": "2022-08-25T11:47:44.002504",
     "exception": false,
     "start_time": "2022-08-25T11:47:43.952828",
     "status": "completed"
    },
    "tags": []
   },
   "outputs": [
    {
     "name": "stdout",
     "output_type": "stream",
     "text": [
      "README.md\n",
      "sample-submission.csv\n",
      "test.csv\n",
      "train.csv\n"
     ]
    }
   ],
   "source": [
    "%%bash\n",
    "\n",
    "ls /kaggle/input/sdaiakaust-ai-bootcamp-august"
   ]
  },
  {
   "cell_type": "code",
   "execution_count": 4,
   "id": "03367b63",
   "metadata": {
    "execution": {
     "iopub.execute_input": "2022-08-25T11:47:44.019066Z",
     "iopub.status.busy": "2022-08-25T11:47:44.018302Z",
     "iopub.status.idle": "2022-08-25T11:47:45.677499Z",
     "shell.execute_reply": "2022-08-25T11:47:45.676173Z"
    },
    "papermill": {
     "duration": 1.670768,
     "end_time": "2022-08-25T11:47:45.680383",
     "exception": false,
     "start_time": "2022-08-25T11:47:44.009615",
     "status": "completed"
    },
    "tags": []
   },
   "outputs": [],
   "source": [
    "DATA_DIR = pathlib.Path(\"/kaggle/input/sdaiakaust-ai-bootcamp-august/\")\n",
    "\n",
    "# training data contains both features and labels\n",
    "train_df = pd.read_csv(DATA_DIR / \"train.csv\", dtype=\"uint8\")\n",
    "\n",
    "# split training data into features and target\n",
    "_train_features = train_df.drop(\"labels\", axis=1)\n",
    "_train_target = train_df.loc[:, \"labels\"]\n",
    "\n",
    "# testing data contains only features\n",
    "test_features = pd.read_csv(DATA_DIR / \"test.csv\", dtype=\"uint8\")"
   ]
  },
  {
   "cell_type": "code",
   "execution_count": 5,
   "id": "90ef196b",
   "metadata": {
    "execution": {
     "iopub.execute_input": "2022-08-25T11:47:45.696273Z",
     "iopub.status.busy": "2022-08-25T11:47:45.695793Z",
     "iopub.status.idle": "2022-08-25T11:47:45.721934Z",
     "shell.execute_reply": "2022-08-25T11:47:45.720504Z"
    },
    "papermill": {
     "duration": 0.037028,
     "end_time": "2022-08-25T11:47:45.724392",
     "exception": false,
     "start_time": "2022-08-25T11:47:45.687364",
     "status": "completed"
    },
    "tags": []
   },
   "outputs": [
    {
     "data": {
      "text/html": [
       "<div>\n",
       "<style scoped>\n",
       "    .dataframe tbody tr th:only-of-type {\n",
       "        vertical-align: middle;\n",
       "    }\n",
       "\n",
       "    .dataframe tbody tr th {\n",
       "        vertical-align: top;\n",
       "    }\n",
       "\n",
       "    .dataframe thead th {\n",
       "        text-align: right;\n",
       "    }\n",
       "</style>\n",
       "<table border=\"1\" class=\"dataframe\">\n",
       "  <thead>\n",
       "    <tr style=\"text-align: right;\">\n",
       "      <th></th>\n",
       "      <th>p0</th>\n",
       "      <th>p1</th>\n",
       "      <th>p2</th>\n",
       "      <th>p3</th>\n",
       "      <th>p4</th>\n",
       "      <th>p5</th>\n",
       "      <th>p6</th>\n",
       "      <th>p7</th>\n",
       "      <th>p8</th>\n",
       "      <th>p9</th>\n",
       "      <th>...</th>\n",
       "      <th>p1014</th>\n",
       "      <th>p1015</th>\n",
       "      <th>p1016</th>\n",
       "      <th>p1017</th>\n",
       "      <th>p1018</th>\n",
       "      <th>p1019</th>\n",
       "      <th>p1020</th>\n",
       "      <th>p1021</th>\n",
       "      <th>p1022</th>\n",
       "      <th>p1023</th>\n",
       "    </tr>\n",
       "  </thead>\n",
       "  <tbody>\n",
       "    <tr>\n",
       "      <th>0</th>\n",
       "      <td>0</td>\n",
       "      <td>0</td>\n",
       "      <td>0</td>\n",
       "      <td>0</td>\n",
       "      <td>0</td>\n",
       "      <td>0</td>\n",
       "      <td>0</td>\n",
       "      <td>0</td>\n",
       "      <td>0</td>\n",
       "      <td>0</td>\n",
       "      <td>...</td>\n",
       "      <td>0</td>\n",
       "      <td>0</td>\n",
       "      <td>0</td>\n",
       "      <td>0</td>\n",
       "      <td>0</td>\n",
       "      <td>0</td>\n",
       "      <td>0</td>\n",
       "      <td>0</td>\n",
       "      <td>0</td>\n",
       "      <td>0</td>\n",
       "    </tr>\n",
       "    <tr>\n",
       "      <th>1</th>\n",
       "      <td>0</td>\n",
       "      <td>0</td>\n",
       "      <td>0</td>\n",
       "      <td>0</td>\n",
       "      <td>0</td>\n",
       "      <td>0</td>\n",
       "      <td>0</td>\n",
       "      <td>0</td>\n",
       "      <td>0</td>\n",
       "      <td>0</td>\n",
       "      <td>...</td>\n",
       "      <td>0</td>\n",
       "      <td>0</td>\n",
       "      <td>0</td>\n",
       "      <td>0</td>\n",
       "      <td>0</td>\n",
       "      <td>0</td>\n",
       "      <td>0</td>\n",
       "      <td>0</td>\n",
       "      <td>0</td>\n",
       "      <td>0</td>\n",
       "    </tr>\n",
       "    <tr>\n",
       "      <th>2</th>\n",
       "      <td>0</td>\n",
       "      <td>0</td>\n",
       "      <td>0</td>\n",
       "      <td>0</td>\n",
       "      <td>0</td>\n",
       "      <td>0</td>\n",
       "      <td>0</td>\n",
       "      <td>0</td>\n",
       "      <td>0</td>\n",
       "      <td>0</td>\n",
       "      <td>...</td>\n",
       "      <td>0</td>\n",
       "      <td>0</td>\n",
       "      <td>0</td>\n",
       "      <td>0</td>\n",
       "      <td>0</td>\n",
       "      <td>0</td>\n",
       "      <td>0</td>\n",
       "      <td>0</td>\n",
       "      <td>0</td>\n",
       "      <td>0</td>\n",
       "    </tr>\n",
       "    <tr>\n",
       "      <th>3</th>\n",
       "      <td>0</td>\n",
       "      <td>0</td>\n",
       "      <td>0</td>\n",
       "      <td>0</td>\n",
       "      <td>0</td>\n",
       "      <td>0</td>\n",
       "      <td>0</td>\n",
       "      <td>0</td>\n",
       "      <td>0</td>\n",
       "      <td>0</td>\n",
       "      <td>...</td>\n",
       "      <td>0</td>\n",
       "      <td>0</td>\n",
       "      <td>0</td>\n",
       "      <td>0</td>\n",
       "      <td>0</td>\n",
       "      <td>0</td>\n",
       "      <td>0</td>\n",
       "      <td>0</td>\n",
       "      <td>0</td>\n",
       "      <td>0</td>\n",
       "    </tr>\n",
       "    <tr>\n",
       "      <th>4</th>\n",
       "      <td>0</td>\n",
       "      <td>0</td>\n",
       "      <td>0</td>\n",
       "      <td>0</td>\n",
       "      <td>0</td>\n",
       "      <td>0</td>\n",
       "      <td>0</td>\n",
       "      <td>0</td>\n",
       "      <td>0</td>\n",
       "      <td>0</td>\n",
       "      <td>...</td>\n",
       "      <td>0</td>\n",
       "      <td>0</td>\n",
       "      <td>0</td>\n",
       "      <td>0</td>\n",
       "      <td>0</td>\n",
       "      <td>0</td>\n",
       "      <td>0</td>\n",
       "      <td>0</td>\n",
       "      <td>0</td>\n",
       "      <td>0</td>\n",
       "    </tr>\n",
       "  </tbody>\n",
       "</table>\n",
       "<p>5 rows × 1024 columns</p>\n",
       "</div>"
      ],
      "text/plain": [
       "   p0  p1  p2  p3  p4  p5  p6  p7  p8  p9  ...  p1014  p1015  p1016  p1017  \\\n",
       "0   0   0   0   0   0   0   0   0   0   0  ...      0      0      0      0   \n",
       "1   0   0   0   0   0   0   0   0   0   0  ...      0      0      0      0   \n",
       "2   0   0   0   0   0   0   0   0   0   0  ...      0      0      0      0   \n",
       "3   0   0   0   0   0   0   0   0   0   0  ...      0      0      0      0   \n",
       "4   0   0   0   0   0   0   0   0   0   0  ...      0      0      0      0   \n",
       "\n",
       "   p1018  p1019  p1020  p1021  p1022  p1023  \n",
       "0      0      0      0      0      0      0  \n",
       "1      0      0      0      0      0      0  \n",
       "2      0      0      0      0      0      0  \n",
       "3      0      0      0      0      0      0  \n",
       "4      0      0      0      0      0      0  \n",
       "\n",
       "[5 rows x 1024 columns]"
      ]
     },
     "execution_count": 5,
     "metadata": {},
     "output_type": "execute_result"
    }
   ],
   "source": [
    "_train_features.head()"
   ]
  },
  {
   "cell_type": "code",
   "execution_count": 6,
   "id": "750d5b5d",
   "metadata": {
    "execution": {
     "iopub.execute_input": "2022-08-25T11:47:45.740550Z",
     "iopub.status.busy": "2022-08-25T11:47:45.739476Z",
     "iopub.status.idle": "2022-08-25T11:47:45.748050Z",
     "shell.execute_reply": "2022-08-25T11:47:45.746986Z"
    },
    "papermill": {
     "duration": 0.018886,
     "end_time": "2022-08-25T11:47:45.750319",
     "exception": false,
     "start_time": "2022-08-25T11:47:45.731433",
     "status": "completed"
    },
    "tags": []
   },
   "outputs": [
    {
     "data": {
      "text/plain": [
       "0    19\n",
       "1    23\n",
       "2     9\n",
       "3    27\n",
       "4    23\n",
       "Name: labels, dtype: uint8"
      ]
     },
     "execution_count": 6,
     "metadata": {},
     "output_type": "execute_result"
    }
   ],
   "source": [
    "_train_target.head()"
   ]
  },
  {
   "cell_type": "code",
   "execution_count": 7,
   "id": "03d1bbb8",
   "metadata": {
    "execution": {
     "iopub.execute_input": "2022-08-25T11:47:45.766386Z",
     "iopub.status.busy": "2022-08-25T11:47:45.765941Z",
     "iopub.status.idle": "2022-08-25T11:47:45.784581Z",
     "shell.execute_reply": "2022-08-25T11:47:45.783379Z"
    },
    "papermill": {
     "duration": 0.029421,
     "end_time": "2022-08-25T11:47:45.786960",
     "exception": false,
     "start_time": "2022-08-25T11:47:45.757539",
     "status": "completed"
    },
    "tags": []
   },
   "outputs": [
    {
     "data": {
      "text/html": [
       "<div>\n",
       "<style scoped>\n",
       "    .dataframe tbody tr th:only-of-type {\n",
       "        vertical-align: middle;\n",
       "    }\n",
       "\n",
       "    .dataframe tbody tr th {\n",
       "        vertical-align: top;\n",
       "    }\n",
       "\n",
       "    .dataframe thead th {\n",
       "        text-align: right;\n",
       "    }\n",
       "</style>\n",
       "<table border=\"1\" class=\"dataframe\">\n",
       "  <thead>\n",
       "    <tr style=\"text-align: right;\">\n",
       "      <th></th>\n",
       "      <th>p0</th>\n",
       "      <th>p1</th>\n",
       "      <th>p2</th>\n",
       "      <th>p3</th>\n",
       "      <th>p4</th>\n",
       "      <th>p5</th>\n",
       "      <th>p6</th>\n",
       "      <th>p7</th>\n",
       "      <th>p8</th>\n",
       "      <th>p9</th>\n",
       "      <th>...</th>\n",
       "      <th>p1014</th>\n",
       "      <th>p1015</th>\n",
       "      <th>p1016</th>\n",
       "      <th>p1017</th>\n",
       "      <th>p1018</th>\n",
       "      <th>p1019</th>\n",
       "      <th>p1020</th>\n",
       "      <th>p1021</th>\n",
       "      <th>p1022</th>\n",
       "      <th>p1023</th>\n",
       "    </tr>\n",
       "  </thead>\n",
       "  <tbody>\n",
       "    <tr>\n",
       "      <th>0</th>\n",
       "      <td>0</td>\n",
       "      <td>0</td>\n",
       "      <td>0</td>\n",
       "      <td>0</td>\n",
       "      <td>0</td>\n",
       "      <td>0</td>\n",
       "      <td>0</td>\n",
       "      <td>0</td>\n",
       "      <td>0</td>\n",
       "      <td>0</td>\n",
       "      <td>...</td>\n",
       "      <td>0</td>\n",
       "      <td>0</td>\n",
       "      <td>0</td>\n",
       "      <td>0</td>\n",
       "      <td>0</td>\n",
       "      <td>0</td>\n",
       "      <td>0</td>\n",
       "      <td>0</td>\n",
       "      <td>0</td>\n",
       "      <td>0</td>\n",
       "    </tr>\n",
       "    <tr>\n",
       "      <th>1</th>\n",
       "      <td>0</td>\n",
       "      <td>0</td>\n",
       "      <td>0</td>\n",
       "      <td>0</td>\n",
       "      <td>0</td>\n",
       "      <td>0</td>\n",
       "      <td>0</td>\n",
       "      <td>0</td>\n",
       "      <td>0</td>\n",
       "      <td>0</td>\n",
       "      <td>...</td>\n",
       "      <td>0</td>\n",
       "      <td>0</td>\n",
       "      <td>0</td>\n",
       "      <td>0</td>\n",
       "      <td>0</td>\n",
       "      <td>0</td>\n",
       "      <td>0</td>\n",
       "      <td>0</td>\n",
       "      <td>0</td>\n",
       "      <td>0</td>\n",
       "    </tr>\n",
       "    <tr>\n",
       "      <th>2</th>\n",
       "      <td>0</td>\n",
       "      <td>0</td>\n",
       "      <td>0</td>\n",
       "      <td>0</td>\n",
       "      <td>0</td>\n",
       "      <td>0</td>\n",
       "      <td>0</td>\n",
       "      <td>0</td>\n",
       "      <td>0</td>\n",
       "      <td>0</td>\n",
       "      <td>...</td>\n",
       "      <td>0</td>\n",
       "      <td>0</td>\n",
       "      <td>0</td>\n",
       "      <td>0</td>\n",
       "      <td>0</td>\n",
       "      <td>0</td>\n",
       "      <td>0</td>\n",
       "      <td>0</td>\n",
       "      <td>0</td>\n",
       "      <td>0</td>\n",
       "    </tr>\n",
       "    <tr>\n",
       "      <th>3</th>\n",
       "      <td>0</td>\n",
       "      <td>0</td>\n",
       "      <td>0</td>\n",
       "      <td>0</td>\n",
       "      <td>0</td>\n",
       "      <td>0</td>\n",
       "      <td>0</td>\n",
       "      <td>0</td>\n",
       "      <td>0</td>\n",
       "      <td>0</td>\n",
       "      <td>...</td>\n",
       "      <td>0</td>\n",
       "      <td>0</td>\n",
       "      <td>0</td>\n",
       "      <td>0</td>\n",
       "      <td>0</td>\n",
       "      <td>0</td>\n",
       "      <td>0</td>\n",
       "      <td>0</td>\n",
       "      <td>0</td>\n",
       "      <td>0</td>\n",
       "    </tr>\n",
       "    <tr>\n",
       "      <th>4</th>\n",
       "      <td>0</td>\n",
       "      <td>0</td>\n",
       "      <td>0</td>\n",
       "      <td>0</td>\n",
       "      <td>0</td>\n",
       "      <td>0</td>\n",
       "      <td>0</td>\n",
       "      <td>0</td>\n",
       "      <td>0</td>\n",
       "      <td>0</td>\n",
       "      <td>...</td>\n",
       "      <td>0</td>\n",
       "      <td>0</td>\n",
       "      <td>0</td>\n",
       "      <td>0</td>\n",
       "      <td>0</td>\n",
       "      <td>0</td>\n",
       "      <td>0</td>\n",
       "      <td>0</td>\n",
       "      <td>0</td>\n",
       "      <td>0</td>\n",
       "    </tr>\n",
       "  </tbody>\n",
       "</table>\n",
       "<p>5 rows × 1024 columns</p>\n",
       "</div>"
      ],
      "text/plain": [
       "   p0  p1  p2  p3  p4  p5  p6  p7  p8  p9  ...  p1014  p1015  p1016  p1017  \\\n",
       "0   0   0   0   0   0   0   0   0   0   0  ...      0      0      0      0   \n",
       "1   0   0   0   0   0   0   0   0   0   0  ...      0      0      0      0   \n",
       "2   0   0   0   0   0   0   0   0   0   0  ...      0      0      0      0   \n",
       "3   0   0   0   0   0   0   0   0   0   0  ...      0      0      0      0   \n",
       "4   0   0   0   0   0   0   0   0   0   0  ...      0      0      0      0   \n",
       "\n",
       "   p1018  p1019  p1020  p1021  p1022  p1023  \n",
       "0      0      0      0      0      0      0  \n",
       "1      0      0      0      0      0      0  \n",
       "2      0      0      0      0      0      0  \n",
       "3      0      0      0      0      0      0  \n",
       "4      0      0      0      0      0      0  \n",
       "\n",
       "[5 rows x 1024 columns]"
      ]
     },
     "execution_count": 7,
     "metadata": {},
     "output_type": "execute_result"
    }
   ],
   "source": [
    "test_features.head()"
   ]
  },
  {
   "cell_type": "code",
   "execution_count": 8,
   "id": "cff569b3",
   "metadata": {
    "execution": {
     "iopub.execute_input": "2022-08-25T11:47:45.804412Z",
     "iopub.status.busy": "2022-08-25T11:47:45.803999Z",
     "iopub.status.idle": "2022-08-25T11:47:45.909918Z",
     "shell.execute_reply": "2022-08-25T11:47:45.908380Z"
    },
    "papermill": {
     "duration": 0.118043,
     "end_time": "2022-08-25T11:47:45.912838",
     "exception": false,
     "start_time": "2022-08-25T11:47:45.794795",
     "status": "completed"
    },
    "tags": []
   },
   "outputs": [],
   "source": [
    "# split the dataset into training and testing data\n",
    "_seed = 42\n",
    "_random_state = np.random.RandomState(_seed)\n",
    "\n",
    "train_features, val_features, train_target, val_target = model_selection.train_test_split(\n",
    "    _train_features,\n",
    "    _train_target - 1, # need to shift targets to have values 0 - 27\n",
    "    test_size=1e-1,\n",
    "    random_state=_random_state\n",
    ")"
   ]
  },
  {
   "cell_type": "markdown",
   "id": "fcd95933",
   "metadata": {
    "papermill": {
     "duration": 0.00746,
     "end_time": "2022-08-25T11:47:45.928085",
     "exception": false,
     "start_time": "2022-08-25T11:47:45.920625",
     "status": "completed"
    },
    "tags": []
   },
   "source": [
    "# Load the code for the fitting loop"
   ]
  },
  {
   "cell_type": "code",
   "execution_count": 9,
   "id": "308515d0",
   "metadata": {
    "execution": {
     "iopub.execute_input": "2022-08-25T11:47:45.946630Z",
     "iopub.status.busy": "2022-08-25T11:47:45.945339Z",
     "iopub.status.idle": "2022-08-25T11:47:45.957036Z",
     "shell.execute_reply": "2022-08-25T11:47:45.956016Z"
    },
    "papermill": {
     "duration": 0.023426,
     "end_time": "2022-08-25T11:47:45.959425",
     "exception": false,
     "start_time": "2022-08-25T11:47:45.935999",
     "status": "completed"
    },
    "tags": []
   },
   "outputs": [],
   "source": [
    "def accuracy(output, target):\n",
    "    return torchmetrics.functional.accuracy(output, target)\n",
    "\n",
    "\n",
    "def partial_fit(model_fn, loss_fn, X_batch, y_batch, opt):\n",
    "    # forward pass\n",
    "    loss = loss_fn(model_fn(X_batch), y_batch)\n",
    "\n",
    "    # back propagation\n",
    "    loss.backward()\n",
    "    opt.step()\n",
    "    opt.zero_grad() # don't forget to reset the gradient after each batch!\n",
    "    \n",
    "\n",
    "def validate(model_fn, loss_fn, data_loader):\n",
    "    with torch.no_grad():\n",
    "\n",
    "        batch_accs = []\n",
    "        batch_losses = []\n",
    "        \n",
    "        for X, y in data_loader:\n",
    "            batch_accs.append(accuracy(model_fn(X), y))\n",
    "            batch_losses.append(loss_fn(model_fn(X), y))\n",
    "        \n",
    "        avg_accuracy = (torch.stack(batch_accs)\n",
    "                             .mean())\n",
    "        avg_loss = (torch.stack(batch_losses)\n",
    "                         .mean())\n",
    "\n",
    "    return avg_accuracy, avg_loss\n",
    "\n",
    "\n",
    "def fit(model_fn,\n",
    "        loss_fn,\n",
    "        train_data_loader,\n",
    "        opt, lr_scheduler,\n",
    "        val_data_loader=None,\n",
    "        number_epochs=1):\n",
    "    \n",
    "    for epoch in range(number_epochs):\n",
    "        # train the model\n",
    "        model_fn.train()\n",
    "        for X_batch, y_batch in train_data_loader:\n",
    "            partial_fit(model_fn, loss_fn, X_batch, y_batch, opt)\n",
    "        \n",
    "        # compute validation loss after each training epoch\n",
    "        model_fn.eval()\n",
    "        if val_data_loader is not None:\n",
    "            val_acc, val_loss = validate(model_fn, loss_fn, val_data_loader)\n",
    "            print(f\"Training epoch: {epoch}, Validation accuracy: {val_acc}, Validation loss: {val_loss}\")\n",
    "\n",
    "        # update the learning rate\n",
    "        lr_scheduler.step()\n"
   ]
  },
  {
   "cell_type": "code",
   "execution_count": 10,
   "id": "7372d90b",
   "metadata": {
    "execution": {
     "iopub.execute_input": "2022-08-25T11:47:45.976757Z",
     "iopub.status.busy": "2022-08-25T11:47:45.975980Z",
     "iopub.status.idle": "2022-08-25T11:47:45.986576Z",
     "shell.execute_reply": "2022-08-25T11:47:45.985699Z"
    },
    "papermill": {
     "duration": 0.021926,
     "end_time": "2022-08-25T11:47:45.988896",
     "exception": false,
     "start_time": "2022-08-25T11:47:45.966970",
     "status": "completed"
    },
    "tags": []
   },
   "outputs": [],
   "source": [
    "class CustomDataset(data.Dataset):\n",
    "    \n",
    "    def __init__(self, features, target=None, transforms = None):\n",
    "        self._data = (features.to_numpy()\n",
    "                              .reshape(-1, 1, 32, 32)\n",
    "                              .transpose(0, 2, 3, 1))\n",
    "        self._target = target.to_numpy() if target is not None else target\n",
    "        self._transforms = transforms\n",
    "        \n",
    "    def __getitem__(self, index):\n",
    "        X, y = self._data[index], self._target[index]\n",
    "        return (self._transforms(X), y) if self._transforms is not None else (X, y)\n",
    "        \n",
    "    def __len__(self):\n",
    "        return len(self._data)\n",
    "\n",
    "\n",
    "class LambdaLayer(nn.Module):\n",
    "    \n",
    "    def __init__(self, f):\n",
    "        super().__init__()\n",
    "        self._f = f\n",
    "        \n",
    "    def forward(self, X):\n",
    "        return self._f(X)\n",
    "\n",
    "\n",
    "class WrappedDataLoader:\n",
    "    \n",
    "    def __init__(self, data_loader, f):\n",
    "        self._data_loader = data_loader\n",
    "        self._f = f\n",
    "        \n",
    "    def __len__(self):\n",
    "        return len(self._data_loader)\n",
    "    \n",
    "    def __iter__(self):\n",
    "        for batch in iter(self._data_loader):\n",
    "            yield self._f(*batch)"
   ]
  },
  {
   "cell_type": "markdown",
   "id": "a3ffeb36",
   "metadata": {
    "papermill": {
     "duration": 0.008522,
     "end_time": "2022-08-25T11:47:46.004990",
     "exception": false,
     "start_time": "2022-08-25T11:47:45.996468",
     "status": "completed"
    },
    "tags": []
   },
   "source": [
    "# Define your model"
   ]
  },
  {
   "cell_type": "code",
   "execution_count": 11,
   "id": "eed2aed2",
   "metadata": {
    "execution": {
     "iopub.execute_input": "2022-08-25T11:47:46.022366Z",
     "iopub.status.busy": "2022-08-25T11:47:46.021653Z",
     "iopub.status.idle": "2022-08-25T11:47:46.225421Z",
     "shell.execute_reply": "2022-08-25T11:47:46.223835Z"
    },
    "papermill": {
     "duration": 0.215351,
     "end_time": "2022-08-25T11:47:46.227936",
     "exception": true,
     "start_time": "2022-08-25T11:47:46.012585",
     "status": "failed"
    },
    "tags": []
   },
   "outputs": [
    {
     "ename": "NameError",
     "evalue": "name 'model_fn' is not defined",
     "output_type": "error",
     "traceback": [
      "\u001b[0;31m---------------------------------------------------------------------------\u001b[0m",
      "\u001b[0;31mNameError\u001b[0m                                 Traceback (most recent call last)",
      "\u001b[0;32m/tmp/ipykernel_19/872947060.py\u001b[0m in \u001b[0;36m<module>\u001b[0;34m\u001b[0m\n\u001b[1;32m     55\u001b[0m \u001b[0;34m\u001b[0m\u001b[0m\n\u001b[1;32m     56\u001b[0m         \u001b[0;32mreturn\u001b[0m \u001b[0mx\u001b[0m\u001b[0;34m\u001b[0m\u001b[0;34m\u001b[0m\u001b[0m\n\u001b[0;32m---> 57\u001b[0;31m \u001b[0m_\u001b[0m \u001b[0;34m=\u001b[0m \u001b[0mmodel_fn\u001b[0m\u001b[0;34m.\u001b[0m\u001b[0mto\u001b[0m\u001b[0;34m(\u001b[0m\u001b[0mdevice\u001b[0m\u001b[0;34m)\u001b[0m\u001b[0;34m\u001b[0m\u001b[0;34m\u001b[0m\u001b[0m\n\u001b[0m",
      "\u001b[0;31mNameError\u001b[0m: name 'model_fn' is not defined"
     ]
    }
   ],
   "source": [
    "class Net(nn.Module):    \n",
    "    def __init__(self):\n",
    "        super(Net, self).__init__()\n",
    "          \n",
    "        self.features = nn.Sequential(\n",
    "            nn.Conv2d(1, 32, kernel_size=3, stride=1, padding=1),\n",
    "            nn.BatchNorm2d(32),\n",
    "            nn.ReLU(inplace=True),\n",
    "            nn.Conv2d(32, 32, kernel_size=3, stride=1, padding=1),\n",
    "            nn.BatchNorm2d(32),\n",
    "            nn.ReLU(inplace=True),\n",
    "            nn.MaxPool2d(kernel_size=2, stride=2),\n",
    "            nn.Conv2d(32, 64, kernel_size=3, padding=1),\n",
    "            nn.BatchNorm2d(64),\n",
    "            nn.ReLU(inplace=True),\n",
    "            nn.Conv2d(64, 64, kernel_size=3, padding=1),\n",
    "            nn.BatchNorm2d(64),\n",
    "            nn.ReLU(inplace=True),\n",
    "            nn.MaxPool2d(kernel_size=2, stride=2)\n",
    "        )\n",
    "          \n",
    "        self.classifier = nn.Sequential(\n",
    "            nn.Dropout(p = 0.5),\n",
    "            nn.Linear(64 * 7 * 7, 512),\n",
    "            nn.BatchNorm1d(512),\n",
    "            nn.ReLU(inplace=True),\n",
    "            nn.Dropout(p = 0.5),\n",
    "            nn.Linear(512, 512),\n",
    "            nn.BatchNorm1d(512),\n",
    "            nn.ReLU(inplace=True),\n",
    "            nn.Dropout(p = 0.5),\n",
    "            nn.Linear(512, 29),\n",
    "        )\n",
    "          \n",
    "        for m in self.features.children():\n",
    "            if isinstance(m, nn.Conv2d):\n",
    "                n = m.kernel_size[0] * m.kernel_size[1] * m.out_channels\n",
    "                m.weight.data.normal_(0, math.sqrt(2. / n))\n",
    "            elif isinstance(m, nn.BatchNorm2d):\n",
    "                m.weight.data.fill_(1)\n",
    "                m.bias.data.zero_()\n",
    "        \n",
    "        for m in self.classifier.children():\n",
    "            if isinstance(m, nn.Linear):\n",
    "                nn.init.xavier_uniform(m.weight)\n",
    "            elif isinstance(m, nn.BatchNorm1d):\n",
    "                m.weight.data.fill_(1)\n",
    "                m.bias.data.zero_()\n",
    "                \n",
    "\n",
    "    def forward(self, x):\n",
    "        x = self.features(x)\n",
    "        x = x.view(x.size(0), -1)\n",
    "        x = self.classifier(x)\n",
    "        \n",
    "        return x\n",
    "_ = model_fn.to(device)"
   ]
  },
  {
   "cell_type": "code",
   "execution_count": null,
   "id": "43223d56",
   "metadata": {
    "execution": {
     "iopub.execute_input": "2022-08-25T11:26:14.221568Z",
     "iopub.status.busy": "2022-08-25T11:26:14.221055Z",
     "iopub.status.idle": "2022-08-25T11:26:14.244391Z",
     "shell.execute_reply": "2022-08-25T11:26:14.242882Z",
     "shell.execute_reply.started": "2022-08-25T11:26:14.221511Z"
    },
    "papermill": {
     "duration": null,
     "end_time": null,
     "exception": null,
     "start_time": null,
     "status": "pending"
    },
    "tags": []
   },
   "outputs": [],
   "source": [
    "torchinfo.summary(model_fn, input_size=(64, 1, 32, 32))"
   ]
  },
  {
   "cell_type": "markdown",
   "id": "40b29fae",
   "metadata": {
    "papermill": {
     "duration": null,
     "end_time": null,
     "exception": null,
     "start_time": null,
     "status": "pending"
    },
    "tags": []
   },
   "source": [
    "# Define your DataLoaders"
   ]
  },
  {
   "cell_type": "code",
   "execution_count": null,
   "id": "1365991b",
   "metadata": {
    "execution": {
     "iopub.execute_input": "2022-08-25T11:26:17.509240Z",
     "iopub.status.busy": "2022-08-25T11:26:17.508740Z",
     "iopub.status.idle": "2022-08-25T11:26:17.516562Z",
     "shell.execute_reply": "2022-08-25T11:26:17.514928Z",
     "shell.execute_reply.started": "2022-08-25T11:26:17.509201Z"
    },
    "papermill": {
     "duration": null,
     "end_time": null,
     "exception": null,
     "start_time": null,
     "status": "pending"
    },
    "tags": []
   },
   "outputs": [],
   "source": [
    "device = torch.device(\"cuda\") if torch.cuda.is_available() else torch.device(\"cpu\")\n",
    "\n",
    "# move the tensor from the CPU to the GPU\n",
    "_to_device = lambda X, y: (X.to(device), y.to(device))"
   ]
  },
  {
   "cell_type": "code",
   "execution_count": null,
   "id": "c137d066",
   "metadata": {
    "execution": {
     "iopub.execute_input": "2022-08-25T11:44:12.210796Z",
     "iopub.status.busy": "2022-08-25T11:44:12.210062Z",
     "iopub.status.idle": "2022-08-25T11:44:12.221649Z",
     "shell.execute_reply": "2022-08-25T11:44:12.220610Z",
     "shell.execute_reply.started": "2022-08-25T11:44:12.210753Z"
    },
    "papermill": {
     "duration": null,
     "end_time": null,
     "exception": null,
     "start_time": null,
     "status": "pending"
    },
    "tags": []
   },
   "outputs": [],
   "source": [
    "# use same loss function from last time\n",
    "loss_fn = F.cross_entropy\n",
    "\n",
    "# define some preprocessing transforms (done on CPU!)\n",
    "_transforms = transforms.Compose([\n",
    "    transforms.ToTensor(),\n",
    "])\n",
    "\n",
    "# define the datasets and dataloaders\n",
    "_train_dataset = CustomDataset(train_features, train_target, _transforms)\n",
    "_train_data_loader = data.DataLoader(_train_dataset, num_workers=2, batch_size=64, shuffle=True)\n",
    "train_data_loader = WrappedDataLoader(_train_data_loader, _to_device)\n",
    "\n",
    "_val_dataset = CustomDataset(val_features, val_target, _transforms)\n",
    "_val_data_loader = data.DataLoader(_val_dataset, num_workers=2, batch_size=128, shuffle=False)\n",
    "val_data_loader = WrappedDataLoader(_val_data_loader, _to_device)\n",
    "\n",
    "\n",
    "\n",
    "\n",
    "# define the optimizer and the learning rate scheduler\n",
    "opt = optim.Adam(model_fn.parameters(),  lr=0.003)\n",
    "lr_scheduler = optim.lr_scheduler.ExponentialLR(opt, gamma=0.9, verbose=True)\n"
   ]
  },
  {
   "cell_type": "markdown",
   "id": "5f1ed6ae",
   "metadata": {
    "papermill": {
     "duration": null,
     "end_time": null,
     "exception": null,
     "start_time": null,
     "status": "pending"
    },
    "tags": []
   },
   "source": [
    "# Train your model"
   ]
  },
  {
   "cell_type": "code",
   "execution_count": null,
   "id": "9afcd8cc",
   "metadata": {
    "execution": {
     "iopub.execute_input": "2022-08-25T11:44:14.305750Z",
     "iopub.status.busy": "2022-08-25T11:44:14.304311Z",
     "iopub.status.idle": "2022-08-25T11:45:50.728201Z",
     "shell.execute_reply": "2022-08-25T11:45:50.726596Z",
     "shell.execute_reply.started": "2022-08-25T11:44:14.305684Z"
    },
    "papermill": {
     "duration": null,
     "end_time": null,
     "exception": null,
     "start_time": null,
     "status": "pending"
    },
    "tags": []
   },
   "outputs": [],
   "source": [
    "_ = model_fn.to(device)\n",
    "\n",
    "fit(model_fn,\n",
    "    loss_fn,\n",
    "    train_data_loader,\n",
    "    opt,\n",
    "    lr_scheduler,\n",
    "    val_data_loader,\n",
    "    number_epochs=30)"
   ]
  },
  {
   "cell_type": "markdown",
   "id": "653cc366",
   "metadata": {
    "papermill": {
     "duration": null,
     "end_time": null,
     "exception": null,
     "start_time": null,
     "status": "pending"
    },
    "tags": []
   },
   "source": [
    "# Make predictions using the test data"
   ]
  },
  {
   "cell_type": "code",
   "execution_count": null,
   "id": "51d01bde",
   "metadata": {
    "execution": {
     "iopub.execute_input": "2022-08-25T11:45:50.731639Z",
     "iopub.status.busy": "2022-08-25T11:45:50.731092Z",
     "iopub.status.idle": "2022-08-25T11:45:50.741942Z",
     "shell.execute_reply": "2022-08-25T11:45:50.740388Z",
     "shell.execute_reply.started": "2022-08-25T11:45:50.731579Z"
    },
    "papermill": {
     "duration": null,
     "end_time": null,
     "exception": null,
     "start_time": null,
     "status": "pending"
    },
    "tags": []
   },
   "outputs": [],
   "source": [
    "def predict(model_fn, data_loader):\n",
    "    with torch.no_grad():\n",
    "\n",
    "        batch_preds = []\n",
    "        \n",
    "        for X, in data_loader:\n",
    "            batch_preds.append(model_fn(X).argmax(dim=1))\n",
    "        \n",
    "        predictions = torch.stack(batch_preds)\n",
    "\n",
    "    return  predictions\n"
   ]
  },
  {
   "cell_type": "code",
   "execution_count": null,
   "id": "d26380fd",
   "metadata": {
    "execution": {
     "iopub.execute_input": "2022-08-25T11:45:50.745017Z",
     "iopub.status.busy": "2022-08-25T11:45:50.744521Z",
     "iopub.status.idle": "2022-08-25T11:45:50.874343Z",
     "shell.execute_reply": "2022-08-25T11:45:50.873065Z",
     "shell.execute_reply.started": "2022-08-25T11:45:50.744973Z"
    },
    "papermill": {
     "duration": null,
     "end_time": null,
     "exception": null,
     "start_time": null,
     "status": "pending"
    },
    "tags": []
   },
   "outputs": [],
   "source": [
    "# need to create your test dataloader!\n",
    "_test_features = (test_features.to_numpy()\n",
    "                               .reshape(-1, 1, 32, 32)\n",
    "                               .transpose(0, 2, 3, 1))\n",
    "_test_features_tensor = torch.stack([transforms.ToTensor()(arr) for arr in _test_features])\n",
    "_test_dataset = data.TensorDataset(_test_features_tensor.to(device))\n",
    "test_data_loader = data.DataLoader(_test_dataset, batch_size=1, shuffle=False)\n"
   ]
  },
  {
   "cell_type": "code",
   "execution_count": null,
   "id": "7bb87998",
   "metadata": {
    "execution": {
     "iopub.execute_input": "2022-08-25T11:45:50.877381Z",
     "iopub.status.busy": "2022-08-25T11:45:50.876905Z",
     "iopub.status.idle": "2022-08-25T11:45:52.497075Z",
     "shell.execute_reply": "2022-08-25T11:45:52.495934Z",
     "shell.execute_reply.started": "2022-08-25T11:45:50.877333Z"
    },
    "papermill": {
     "duration": null,
     "end_time": null,
     "exception": null,
     "start_time": null,
     "status": "pending"
    },
    "tags": []
   },
   "outputs": [],
   "source": [
    "_test_predictions = predict(model_fn, test_data_loader) + 1 # shift targets back!\n",
    "test_predictions = (_test_predictions.to(\"cpu\")\n",
    "                                     .numpy()\n",
    "                                     .flatten())"
   ]
  },
  {
   "cell_type": "markdown",
   "id": "57b3118d",
   "metadata": {
    "papermill": {
     "duration": null,
     "end_time": null,
     "exception": null,
     "start_time": null,
     "status": "pending"
    },
    "tags": []
   },
   "source": [
    "# Generate your submission file"
   ]
  },
  {
   "cell_type": "code",
   "execution_count": null,
   "id": "be8a4056",
   "metadata": {
    "execution": {
     "iopub.execute_input": "2022-08-25T11:46:12.034018Z",
     "iopub.status.busy": "2022-08-25T11:46:12.033445Z",
     "iopub.status.idle": "2022-08-25T11:46:12.053092Z",
     "shell.execute_reply": "2022-08-25T11:46:12.051292Z",
     "shell.execute_reply.started": "2022-08-25T11:46:12.033976Z"
    },
    "papermill": {
     "duration": null,
     "end_time": null,
     "exception": null,
     "start_time": null,
     "status": "pending"
    },
    "tags": []
   },
   "outputs": [],
   "source": [
    "_ = (pd.DataFrame\n",
    "       .from_dict({\"Id\": test_features.index, \"Category\": test_predictions})\n",
    "       .to_csv(\"submission.csv\", index=False))"
   ]
  },
  {
   "cell_type": "code",
   "execution_count": null,
   "id": "53cc47f4",
   "metadata": {
    "papermill": {
     "duration": null,
     "end_time": null,
     "exception": null,
     "start_time": null,
     "status": "pending"
    },
    "tags": []
   },
   "outputs": [],
   "source": [
    " "
   ]
  }
 ],
 "metadata": {
  "kernelspec": {
   "display_name": "Python 3",
   "language": "python",
   "name": "python3"
  },
  "language_info": {
   "codemirror_mode": {
    "name": "ipython",
    "version": 3
   },
   "file_extension": ".py",
   "mimetype": "text/x-python",
   "name": "python",
   "nbconvert_exporter": "python",
   "pygments_lexer": "ipython3",
   "version": "3.7.12"
  },
  "papermill": {
   "default_parameters": {},
   "duration": 28.287786,
   "end_time": "2022-08-25T11:47:47.259184",
   "environment_variables": {},
   "exception": true,
   "input_path": "__notebook__.ipynb",
   "output_path": "__notebook__.ipynb",
   "parameters": {},
   "start_time": "2022-08-25T11:47:18.971398",
   "version": "2.3.4"
  }
 },
 "nbformat": 4,
 "nbformat_minor": 5
}
